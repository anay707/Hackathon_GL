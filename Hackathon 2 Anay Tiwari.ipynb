{
 "cells": [
  {
   "cell_type": "code",
   "execution_count": 1,
   "id": "45281ec1",
   "metadata": {},
   "outputs": [],
   "source": [
    "## Import important Libraries\n",
    "import os\n",
    "import numpy as np\n",
    "import pandas as pd\n",
    "import matplotlib.pyplot as plt\n",
    "import seaborn as sns\n",
    "import warnings\n",
    "warnings.filterwarnings('ignore')\n",
    "from sklearn.model_selection import train_test_split\n",
    "from sklearn.model_selection import GridSearchCV"
   ]
  },
  {
   "cell_type": "code",
   "execution_count": 2,
   "id": "4bb12d2c",
   "metadata": {},
   "outputs": [],
   "source": [
    "## Import ML Libraries\n",
    "from sklearn.linear_model import LogisticRegression\n",
    "from sklearn.discriminant_analysis import LinearDiscriminantAnalysis\n",
    "from sklearn.neighbors import KNeighborsClassifier\n",
    "from sklearn.naive_bayes import GaussianNB\n",
    "from sklearn.tree import DecisionTreeClassifier\n",
    "from imblearn.over_sampling import SMOTE\n",
    "\n",
    "\n",
    "## Import Ensemble libraries\n",
    "from sklearn.ensemble import RandomForestClassifier\n",
    "from sklearn.ensemble import BaggingClassifier\n",
    "from sklearn.ensemble import GradientBoostingClassifier\n",
    "from sklearn.ensemble import AdaBoostClassifier\n",
    "from sklearn.ensemble import VotingClassifier\n",
    "\n",
    "## Import Support Vector Classifier library\n",
    "from sklearn import svm\n",
    "from sklearn.svm import SVC\n",
    "\n",
    "\n",
    "\n",
    "## Import Metrics Libraries\n",
    "from sklearn.metrics import classification_report, confusion_matrix,  roc_curve, roc_auc_score,accuracy_score"
   ]
  },
  {
   "cell_type": "code",
   "execution_count": 3,
   "id": "3217ef69",
   "metadata": {},
   "outputs": [],
   "source": [
    "df_Surveydata_train = pd.read_csv(r\"C:\\Users\\ANAY TIWARI\\OneDrive\\Desktop\\Hackathon_GL\\Surveydata_train_(1)_(1).csv\")\n",
    "df_Traveldata_train = pd.read_csv(r\"C:\\Users\\ANAY TIWARI\\OneDrive\\Desktop\\Hackathon_GL\\Traveldata_train_(1)_(2).csv\")"
   ]
  },
  {
   "cell_type": "code",
   "execution_count": 4,
   "id": "afbd22e5",
   "metadata": {},
   "outputs": [],
   "source": [
    "## Merge Surveydata_train and Traveldata_train for Train and Test Set\n",
    "df_train = pd.merge(df_Surveydata_train,df_Traveldata_train,on='ID',how='outer')"
   ]
  },
  {
   "cell_type": "code",
   "execution_count": 5,
   "id": "1dfc3b68",
   "metadata": {},
   "outputs": [],
   "source": [
    "## Split the data into categorical variables and Numerical variables\n",
    "df_train_cat = df_train.select_dtypes(['object'])\n",
    "df_train_num = df_train.select_dtypes(['int64','float64'])"
   ]
  },
  {
   "cell_type": "code",
   "execution_count": 6,
   "id": "c8951996",
   "metadata": {},
   "outputs": [
    {
     "data": {
      "text/plain": [
       "ID                          0\n",
       "Overall_Experience          0\n",
       "Age                        33\n",
       "Travel_Distance             0\n",
       "DepartureDelay_in_Mins     57\n",
       "ArrivalDelay_in_Mins      357\n",
       "dtype: int64"
      ]
     },
     "execution_count": 6,
     "metadata": {},
     "output_type": "execute_result"
    }
   ],
   "source": [
    "df_train_num.isnull().sum()"
   ]
  },
  {
   "cell_type": "code",
   "execution_count": 7,
   "id": "3fae9676",
   "metadata": {},
   "outputs": [
    {
     "data": {
      "text/plain": [
       "0    39.0\n",
       "Name: Age, dtype: float64"
      ]
     },
     "execution_count": 7,
     "metadata": {},
     "output_type": "execute_result"
    }
   ],
   "source": [
    "df_train_num.Age.mode()"
   ]
  },
  {
   "cell_type": "code",
   "execution_count": 8,
   "id": "628f65f1",
   "metadata": {},
   "outputs": [
    {
     "data": {
      "text/html": [
       "<div>\n",
       "<style scoped>\n",
       "    .dataframe tbody tr th:only-of-type {\n",
       "        vertical-align: middle;\n",
       "    }\n",
       "\n",
       "    .dataframe tbody tr th {\n",
       "        vertical-align: top;\n",
       "    }\n",
       "\n",
       "    .dataframe thead th {\n",
       "        text-align: right;\n",
       "    }\n",
       "</style>\n",
       "<table border=\"1\" class=\"dataframe\">\n",
       "  <thead>\n",
       "    <tr style=\"text-align: right;\">\n",
       "      <th></th>\n",
       "      <th>ID</th>\n",
       "      <th>Overall_Experience</th>\n",
       "      <th>Age</th>\n",
       "      <th>Travel_Distance</th>\n",
       "      <th>DepartureDelay_in_Mins</th>\n",
       "      <th>ArrivalDelay_in_Mins</th>\n",
       "    </tr>\n",
       "  </thead>\n",
       "  <tbody>\n",
       "    <tr>\n",
       "      <th>2292</th>\n",
       "      <td>98802293</td>\n",
       "      <td>1</td>\n",
       "      <td>NaN</td>\n",
       "      <td>242</td>\n",
       "      <td>0.0</td>\n",
       "      <td>3.0</td>\n",
       "    </tr>\n",
       "    <tr>\n",
       "      <th>10887</th>\n",
       "      <td>98810888</td>\n",
       "      <td>1</td>\n",
       "      <td>NaN</td>\n",
       "      <td>245</td>\n",
       "      <td>0.0</td>\n",
       "      <td>0.0</td>\n",
       "    </tr>\n",
       "    <tr>\n",
       "      <th>11562</th>\n",
       "      <td>98811563</td>\n",
       "      <td>1</td>\n",
       "      <td>NaN</td>\n",
       "      <td>1933</td>\n",
       "      <td>0.0</td>\n",
       "      <td>0.0</td>\n",
       "    </tr>\n",
       "    <tr>\n",
       "      <th>11682</th>\n",
       "      <td>98811683</td>\n",
       "      <td>0</td>\n",
       "      <td>NaN</td>\n",
       "      <td>4717</td>\n",
       "      <td>0.0</td>\n",
       "      <td>0.0</td>\n",
       "    </tr>\n",
       "    <tr>\n",
       "      <th>16203</th>\n",
       "      <td>98816204</td>\n",
       "      <td>1</td>\n",
       "      <td>NaN</td>\n",
       "      <td>251</td>\n",
       "      <td>3.0</td>\n",
       "      <td>0.0</td>\n",
       "    </tr>\n",
       "    <tr>\n",
       "      <th>19731</th>\n",
       "      <td>98819732</td>\n",
       "      <td>0</td>\n",
       "      <td>NaN</td>\n",
       "      <td>1566</td>\n",
       "      <td>9.0</td>\n",
       "      <td>28.0</td>\n",
       "    </tr>\n",
       "    <tr>\n",
       "      <th>21141</th>\n",
       "      <td>98821142</td>\n",
       "      <td>0</td>\n",
       "      <td>NaN</td>\n",
       "      <td>1834</td>\n",
       "      <td>4.0</td>\n",
       "      <td>4.0</td>\n",
       "    </tr>\n",
       "    <tr>\n",
       "      <th>22085</th>\n",
       "      <td>98822086</td>\n",
       "      <td>0</td>\n",
       "      <td>NaN</td>\n",
       "      <td>3385</td>\n",
       "      <td>0.0</td>\n",
       "      <td>0.0</td>\n",
       "    </tr>\n",
       "    <tr>\n",
       "      <th>24361</th>\n",
       "      <td>98824362</td>\n",
       "      <td>1</td>\n",
       "      <td>NaN</td>\n",
       "      <td>1689</td>\n",
       "      <td>16.0</td>\n",
       "      <td>22.0</td>\n",
       "    </tr>\n",
       "    <tr>\n",
       "      <th>25782</th>\n",
       "      <td>98825783</td>\n",
       "      <td>1</td>\n",
       "      <td>NaN</td>\n",
       "      <td>1346</td>\n",
       "      <td>0.0</td>\n",
       "      <td>0.0</td>\n",
       "    </tr>\n",
       "    <tr>\n",
       "      <th>39759</th>\n",
       "      <td>98839760</td>\n",
       "      <td>1</td>\n",
       "      <td>NaN</td>\n",
       "      <td>680</td>\n",
       "      <td>0.0</td>\n",
       "      <td>3.0</td>\n",
       "    </tr>\n",
       "    <tr>\n",
       "      <th>41446</th>\n",
       "      <td>98841447</td>\n",
       "      <td>1</td>\n",
       "      <td>NaN</td>\n",
       "      <td>1471</td>\n",
       "      <td>24.0</td>\n",
       "      <td>25.0</td>\n",
       "    </tr>\n",
       "    <tr>\n",
       "      <th>41920</th>\n",
       "      <td>98841921</td>\n",
       "      <td>1</td>\n",
       "      <td>NaN</td>\n",
       "      <td>288</td>\n",
       "      <td>0.0</td>\n",
       "      <td>3.0</td>\n",
       "    </tr>\n",
       "    <tr>\n",
       "      <th>44633</th>\n",
       "      <td>98844634</td>\n",
       "      <td>0</td>\n",
       "      <td>NaN</td>\n",
       "      <td>2860</td>\n",
       "      <td>0.0</td>\n",
       "      <td>17.0</td>\n",
       "    </tr>\n",
       "    <tr>\n",
       "      <th>44891</th>\n",
       "      <td>98844892</td>\n",
       "      <td>1</td>\n",
       "      <td>NaN</td>\n",
       "      <td>1631</td>\n",
       "      <td>5.0</td>\n",
       "      <td>49.0</td>\n",
       "    </tr>\n",
       "    <tr>\n",
       "      <th>44900</th>\n",
       "      <td>98844901</td>\n",
       "      <td>0</td>\n",
       "      <td>NaN</td>\n",
       "      <td>1368</td>\n",
       "      <td>0.0</td>\n",
       "      <td>0.0</td>\n",
       "    </tr>\n",
       "    <tr>\n",
       "      <th>47124</th>\n",
       "      <td>98847125</td>\n",
       "      <td>0</td>\n",
       "      <td>NaN</td>\n",
       "      <td>3046</td>\n",
       "      <td>0.0</td>\n",
       "      <td>6.0</td>\n",
       "    </tr>\n",
       "    <tr>\n",
       "      <th>47713</th>\n",
       "      <td>98847714</td>\n",
       "      <td>1</td>\n",
       "      <td>NaN</td>\n",
       "      <td>3952</td>\n",
       "      <td>55.0</td>\n",
       "      <td>53.0</td>\n",
       "    </tr>\n",
       "    <tr>\n",
       "      <th>51683</th>\n",
       "      <td>98851684</td>\n",
       "      <td>0</td>\n",
       "      <td>NaN</td>\n",
       "      <td>1365</td>\n",
       "      <td>0.0</td>\n",
       "      <td>0.0</td>\n",
       "    </tr>\n",
       "    <tr>\n",
       "      <th>54753</th>\n",
       "      <td>98854754</td>\n",
       "      <td>1</td>\n",
       "      <td>NaN</td>\n",
       "      <td>2301</td>\n",
       "      <td>40.0</td>\n",
       "      <td>49.0</td>\n",
       "    </tr>\n",
       "    <tr>\n",
       "      <th>57293</th>\n",
       "      <td>98857294</td>\n",
       "      <td>1</td>\n",
       "      <td>NaN</td>\n",
       "      <td>203</td>\n",
       "      <td>0.0</td>\n",
       "      <td>0.0</td>\n",
       "    </tr>\n",
       "    <tr>\n",
       "      <th>63863</th>\n",
       "      <td>98863864</td>\n",
       "      <td>0</td>\n",
       "      <td>NaN</td>\n",
       "      <td>3546</td>\n",
       "      <td>0.0</td>\n",
       "      <td>0.0</td>\n",
       "    </tr>\n",
       "    <tr>\n",
       "      <th>63871</th>\n",
       "      <td>98863872</td>\n",
       "      <td>1</td>\n",
       "      <td>NaN</td>\n",
       "      <td>1672</td>\n",
       "      <td>0.0</td>\n",
       "      <td>0.0</td>\n",
       "    </tr>\n",
       "    <tr>\n",
       "      <th>66991</th>\n",
       "      <td>98866992</td>\n",
       "      <td>0</td>\n",
       "      <td>NaN</td>\n",
       "      <td>1745</td>\n",
       "      <td>7.0</td>\n",
       "      <td>6.0</td>\n",
       "    </tr>\n",
       "    <tr>\n",
       "      <th>67670</th>\n",
       "      <td>98867671</td>\n",
       "      <td>0</td>\n",
       "      <td>NaN</td>\n",
       "      <td>1521</td>\n",
       "      <td>11.0</td>\n",
       "      <td>0.0</td>\n",
       "    </tr>\n",
       "    <tr>\n",
       "      <th>77379</th>\n",
       "      <td>98877380</td>\n",
       "      <td>0</td>\n",
       "      <td>NaN</td>\n",
       "      <td>1989</td>\n",
       "      <td>10.0</td>\n",
       "      <td>48.0</td>\n",
       "    </tr>\n",
       "    <tr>\n",
       "      <th>81435</th>\n",
       "      <td>98881436</td>\n",
       "      <td>0</td>\n",
       "      <td>NaN</td>\n",
       "      <td>3786</td>\n",
       "      <td>69.0</td>\n",
       "      <td>64.0</td>\n",
       "    </tr>\n",
       "    <tr>\n",
       "      <th>83415</th>\n",
       "      <td>98883416</td>\n",
       "      <td>1</td>\n",
       "      <td>NaN</td>\n",
       "      <td>2349</td>\n",
       "      <td>171.0</td>\n",
       "      <td>172.0</td>\n",
       "    </tr>\n",
       "    <tr>\n",
       "      <th>90572</th>\n",
       "      <td>98890573</td>\n",
       "      <td>1</td>\n",
       "      <td>NaN</td>\n",
       "      <td>2393</td>\n",
       "      <td>13.0</td>\n",
       "      <td>14.0</td>\n",
       "    </tr>\n",
       "    <tr>\n",
       "      <th>91935</th>\n",
       "      <td>98891936</td>\n",
       "      <td>0</td>\n",
       "      <td>NaN</td>\n",
       "      <td>2675</td>\n",
       "      <td>1.0</td>\n",
       "      <td>0.0</td>\n",
       "    </tr>\n",
       "    <tr>\n",
       "      <th>92126</th>\n",
       "      <td>98892127</td>\n",
       "      <td>0</td>\n",
       "      <td>NaN</td>\n",
       "      <td>1063</td>\n",
       "      <td>0.0</td>\n",
       "      <td>1.0</td>\n",
       "    </tr>\n",
       "    <tr>\n",
       "      <th>92946</th>\n",
       "      <td>98892947</td>\n",
       "      <td>1</td>\n",
       "      <td>NaN</td>\n",
       "      <td>1834</td>\n",
       "      <td>6.0</td>\n",
       "      <td>0.0</td>\n",
       "    </tr>\n",
       "    <tr>\n",
       "      <th>94095</th>\n",
       "      <td>98894096</td>\n",
       "      <td>0</td>\n",
       "      <td>NaN</td>\n",
       "      <td>2196</td>\n",
       "      <td>0.0</td>\n",
       "      <td>0.0</td>\n",
       "    </tr>\n",
       "  </tbody>\n",
       "</table>\n",
       "</div>"
      ],
      "text/plain": [
       "             ID  Overall_Experience  Age  Travel_Distance  \\\n",
       "2292   98802293                   1  NaN              242   \n",
       "10887  98810888                   1  NaN              245   \n",
       "11562  98811563                   1  NaN             1933   \n",
       "11682  98811683                   0  NaN             4717   \n",
       "16203  98816204                   1  NaN              251   \n",
       "19731  98819732                   0  NaN             1566   \n",
       "21141  98821142                   0  NaN             1834   \n",
       "22085  98822086                   0  NaN             3385   \n",
       "24361  98824362                   1  NaN             1689   \n",
       "25782  98825783                   1  NaN             1346   \n",
       "39759  98839760                   1  NaN              680   \n",
       "41446  98841447                   1  NaN             1471   \n",
       "41920  98841921                   1  NaN              288   \n",
       "44633  98844634                   0  NaN             2860   \n",
       "44891  98844892                   1  NaN             1631   \n",
       "44900  98844901                   0  NaN             1368   \n",
       "47124  98847125                   0  NaN             3046   \n",
       "47713  98847714                   1  NaN             3952   \n",
       "51683  98851684                   0  NaN             1365   \n",
       "54753  98854754                   1  NaN             2301   \n",
       "57293  98857294                   1  NaN              203   \n",
       "63863  98863864                   0  NaN             3546   \n",
       "63871  98863872                   1  NaN             1672   \n",
       "66991  98866992                   0  NaN             1745   \n",
       "67670  98867671                   0  NaN             1521   \n",
       "77379  98877380                   0  NaN             1989   \n",
       "81435  98881436                   0  NaN             3786   \n",
       "83415  98883416                   1  NaN             2349   \n",
       "90572  98890573                   1  NaN             2393   \n",
       "91935  98891936                   0  NaN             2675   \n",
       "92126  98892127                   0  NaN             1063   \n",
       "92946  98892947                   1  NaN             1834   \n",
       "94095  98894096                   0  NaN             2196   \n",
       "\n",
       "       DepartureDelay_in_Mins  ArrivalDelay_in_Mins  \n",
       "2292                      0.0                   3.0  \n",
       "10887                     0.0                   0.0  \n",
       "11562                     0.0                   0.0  \n",
       "11682                     0.0                   0.0  \n",
       "16203                     3.0                   0.0  \n",
       "19731                     9.0                  28.0  \n",
       "21141                     4.0                   4.0  \n",
       "22085                     0.0                   0.0  \n",
       "24361                    16.0                  22.0  \n",
       "25782                     0.0                   0.0  \n",
       "39759                     0.0                   3.0  \n",
       "41446                    24.0                  25.0  \n",
       "41920                     0.0                   3.0  \n",
       "44633                     0.0                  17.0  \n",
       "44891                     5.0                  49.0  \n",
       "44900                     0.0                   0.0  \n",
       "47124                     0.0                   6.0  \n",
       "47713                    55.0                  53.0  \n",
       "51683                     0.0                   0.0  \n",
       "54753                    40.0                  49.0  \n",
       "57293                     0.0                   0.0  \n",
       "63863                     0.0                   0.0  \n",
       "63871                     0.0                   0.0  \n",
       "66991                     7.0                   6.0  \n",
       "67670                    11.0                   0.0  \n",
       "77379                    10.0                  48.0  \n",
       "81435                    69.0                  64.0  \n",
       "83415                   171.0                 172.0  \n",
       "90572                    13.0                  14.0  \n",
       "91935                     1.0                   0.0  \n",
       "92126                     0.0                   1.0  \n",
       "92946                     6.0                   0.0  \n",
       "94095                     0.0                   0.0  "
      ]
     },
     "execution_count": 8,
     "metadata": {},
     "output_type": "execute_result"
    }
   ],
   "source": [
    "df_train_num.loc[df_train_num.Age.isnull()]"
   ]
  },
  {
   "cell_type": "code",
   "execution_count": 9,
   "id": "4ec5f34f",
   "metadata": {},
   "outputs": [],
   "source": [
    "df_train_num['Age'].fillna(df_train_num['Age'].mode()[0], inplace=True)"
   ]
  },
  {
   "cell_type": "code",
   "execution_count": 10,
   "id": "e2b24b7c",
   "metadata": {},
   "outputs": [
    {
     "data": {
      "text/plain": [
       "ID                          0\n",
       "Overall_Experience          0\n",
       "Age                         0\n",
       "Travel_Distance             0\n",
       "DepartureDelay_in_Mins     57\n",
       "ArrivalDelay_in_Mins      357\n",
       "dtype: int64"
      ]
     },
     "execution_count": 10,
     "metadata": {},
     "output_type": "execute_result"
    }
   ],
   "source": [
    "df_train_num.isnull().sum()"
   ]
  },
  {
   "cell_type": "code",
   "execution_count": 11,
   "id": "22a2390b",
   "metadata": {},
   "outputs": [
    {
     "data": {
      "text/plain": [
       "0         0.0\n",
       "1         9.0\n",
       "2        77.0\n",
       "3        13.0\n",
       "4         0.0\n",
       "         ... \n",
       "94374    83.0\n",
       "94375     5.0\n",
       "94376     0.0\n",
       "94377     0.0\n",
       "94378    28.0\n",
       "Name: DepartureDelay_in_Mins, Length: 94379, dtype: float64"
      ]
     },
     "execution_count": 11,
     "metadata": {},
     "output_type": "execute_result"
    }
   ],
   "source": [
    "df_train_num.DepartureDelay_in_Mins"
   ]
  },
  {
   "cell_type": "code",
   "execution_count": 12,
   "id": "cff66ed0",
   "metadata": {},
   "outputs": [
    {
     "data": {
      "text/plain": [
       "14.647091876762579"
      ]
     },
     "execution_count": 12,
     "metadata": {},
     "output_type": "execute_result"
    }
   ],
   "source": [
    "df_train_num.DepartureDelay_in_Mins.mean()"
   ]
  },
  {
   "cell_type": "code",
   "execution_count": 13,
   "id": "1adce1bf",
   "metadata": {},
   "outputs": [],
   "source": [
    "df_train_num.DepartureDelay_in_Mins.fillna(15,inplace=True)"
   ]
  },
  {
   "cell_type": "code",
   "execution_count": 14,
   "id": "65f2c071",
   "metadata": {},
   "outputs": [
    {
     "data": {
      "text/plain": [
       "ID                          0\n",
       "Overall_Experience          0\n",
       "Age                         0\n",
       "Travel_Distance             0\n",
       "DepartureDelay_in_Mins      0\n",
       "ArrivalDelay_in_Mins      357\n",
       "dtype: int64"
      ]
     },
     "execution_count": 14,
     "metadata": {},
     "output_type": "execute_result"
    }
   ],
   "source": [
    "df_train_num.isnull().sum()"
   ]
  },
  {
   "cell_type": "code",
   "execution_count": 15,
   "id": "0bcbf3cf",
   "metadata": {},
   "outputs": [
    {
     "data": {
      "text/plain": [
       "15.0052221820425"
      ]
     },
     "execution_count": 15,
     "metadata": {},
     "output_type": "execute_result"
    }
   ],
   "source": [
    "df_train_num.ArrivalDelay_in_Mins.mean()"
   ]
  },
  {
   "cell_type": "code",
   "execution_count": 16,
   "id": "9b41753d",
   "metadata": {},
   "outputs": [],
   "source": [
    "df_train_num.ArrivalDelay_in_Mins.fillna(15,inplace=True)"
   ]
  },
  {
   "cell_type": "code",
   "execution_count": 17,
   "id": "89456c07",
   "metadata": {},
   "outputs": [
    {
     "data": {
      "text/plain": [
       "ID                        0\n",
       "Overall_Experience        0\n",
       "Age                       0\n",
       "Travel_Distance           0\n",
       "DepartureDelay_in_Mins    0\n",
       "ArrivalDelay_in_Mins      0\n",
       "dtype: int64"
      ]
     },
     "execution_count": 17,
     "metadata": {},
     "output_type": "execute_result"
    }
   ],
   "source": [
    "df_train_num.isnull().sum()"
   ]
  },
  {
   "cell_type": "code",
   "execution_count": 18,
   "id": "954f5b8f",
   "metadata": {},
   "outputs": [
    {
     "data": {
      "text/plain": [
       "Seat_comfort                 61\n",
       "Seat_Class                    0\n",
       "Arrival_time_convenient    8930\n",
       "Catering                   8741\n",
       "Platform_location            30\n",
       "Onboardwifi_service          30\n",
       "Onboard_entertainment        18\n",
       "Online_support               91\n",
       "Onlinebooking_Ease           73\n",
       "Onboard_service            7601\n",
       "Leg_room                     90\n",
       "Baggage_handling            142\n",
       "Checkin_service              77\n",
       "Cleanliness                   6\n",
       "Online_boarding               6\n",
       "Gender                       77\n",
       "CustomerType               8951\n",
       "TypeTravel                 9226\n",
       "Travel_Class                  0\n",
       "dtype: int64"
      ]
     },
     "execution_count": 18,
     "metadata": {},
     "output_type": "execute_result"
    }
   ],
   "source": [
    "df_train_cat.isnull().sum()"
   ]
  },
  {
   "cell_type": "code",
   "execution_count": 19,
   "id": "7dc9cdbf",
   "metadata": {},
   "outputs": [
    {
     "data": {
      "text/plain": [
       "0    acceptable\n",
       "Name: Seat_comfort, dtype: object"
      ]
     },
     "execution_count": 19,
     "metadata": {},
     "output_type": "execute_result"
    }
   ],
   "source": [
    "df_train_cat.Seat_comfort.mode()"
   ]
  },
  {
   "cell_type": "code",
   "execution_count": 20,
   "id": "7da84a4e",
   "metadata": {},
   "outputs": [],
   "source": [
    "df_train_cat.Seat_comfort.fillna(df_train_cat.Seat_comfort.mode()[0],inplace=True)"
   ]
  },
  {
   "cell_type": "code",
   "execution_count": 21,
   "id": "20d6d923",
   "metadata": {},
   "outputs": [
    {
     "data": {
      "text/plain": [
       "Seat_comfort                  0\n",
       "Seat_Class                    0\n",
       "Arrival_time_convenient    8930\n",
       "Catering                   8741\n",
       "Platform_location            30\n",
       "Onboardwifi_service          30\n",
       "Onboard_entertainment        18\n",
       "Online_support               91\n",
       "Onlinebooking_Ease           73\n",
       "Onboard_service            7601\n",
       "Leg_room                     90\n",
       "Baggage_handling            142\n",
       "Checkin_service              77\n",
       "Cleanliness                   6\n",
       "Online_boarding               6\n",
       "Gender                       77\n",
       "CustomerType               8951\n",
       "TypeTravel                 9226\n",
       "Travel_Class                  0\n",
       "dtype: int64"
      ]
     },
     "execution_count": 21,
     "metadata": {},
     "output_type": "execute_result"
    }
   ],
   "source": [
    "df_train_cat.isnull().sum()"
   ]
  },
  {
   "cell_type": "code",
   "execution_count": 22,
   "id": "7748ff54",
   "metadata": {},
   "outputs": [
    {
     "data": {
      "text/plain": [
       "0    good\n",
       "Name: Arrival_time_convenient, dtype: object"
      ]
     },
     "execution_count": 22,
     "metadata": {},
     "output_type": "execute_result"
    }
   ],
   "source": [
    "df_train_cat.Arrival_time_convenient.mode()"
   ]
  },
  {
   "cell_type": "code",
   "execution_count": 23,
   "id": "43997297",
   "metadata": {},
   "outputs": [],
   "source": [
    "df_train_cat.Arrival_time_convenient.fillna(df_train_cat.Arrival_time_convenient.mode()[0],inplace=True)"
   ]
  },
  {
   "cell_type": "code",
   "execution_count": 24,
   "id": "5e75b771",
   "metadata": {},
   "outputs": [],
   "source": [
    "df_train_cat.Catering.fillna(df_train_cat.Catering.mode()[0],inplace=True)"
   ]
  },
  {
   "cell_type": "code",
   "execution_count": 25,
   "id": "bf96f2d0",
   "metadata": {},
   "outputs": [],
   "source": [
    "df_train_cat.Onboard_service.fillna(df_train_cat.Onboard_service.mode()[0],inplace=True)"
   ]
  },
  {
   "cell_type": "code",
   "execution_count": 26,
   "id": "a546bab6",
   "metadata": {},
   "outputs": [],
   "source": [
    "df_train_cat.Leg_room.fillna(df_train_cat.Leg_room.mode()[0],inplace=True)"
   ]
  },
  {
   "cell_type": "code",
   "execution_count": 27,
   "id": "694a1844",
   "metadata": {},
   "outputs": [],
   "source": [
    "df_train_cat.Baggage_handling.fillna(df_train_cat.Baggage_handling.mode()[0],inplace=True)"
   ]
  },
  {
   "cell_type": "code",
   "execution_count": 28,
   "id": "7e11e6e5",
   "metadata": {},
   "outputs": [],
   "source": [
    "df_train_cat.Checkin_service.fillna(df_train_cat.Checkin_service.mode()[0],inplace=True)"
   ]
  },
  {
   "cell_type": "code",
   "execution_count": 29,
   "id": "ea4b6c20",
   "metadata": {},
   "outputs": [],
   "source": [
    "df_train_cat.Cleanliness.fillna(df_train_cat.Cleanliness.mode()[0],inplace=True)"
   ]
  },
  {
   "cell_type": "code",
   "execution_count": 30,
   "id": "b0029450",
   "metadata": {},
   "outputs": [],
   "source": [
    "df_train_cat.Online_boarding.fillna(df_train_cat.Online_boarding.mode()[0],inplace=True)"
   ]
  },
  {
   "cell_type": "code",
   "execution_count": 31,
   "id": "e6362ce6",
   "metadata": {},
   "outputs": [],
   "source": [
    "df_train_cat.Gender.fillna(df_train_cat.Gender.mode()[0],inplace=True)"
   ]
  },
  {
   "cell_type": "code",
   "execution_count": 32,
   "id": "f234458b",
   "metadata": {},
   "outputs": [],
   "source": [
    "df_train_cat.CustomerType.fillna(df_train_cat.CustomerType.mode()[0],inplace=True)"
   ]
  },
  {
   "cell_type": "code",
   "execution_count": 33,
   "id": "a9603409",
   "metadata": {},
   "outputs": [],
   "source": [
    "df_train_cat.TypeTravel.fillna(df_train_cat.TypeTravel.mode()[0],inplace=True)"
   ]
  },
  {
   "cell_type": "code",
   "execution_count": 34,
   "id": "b52702eb",
   "metadata": {},
   "outputs": [
    {
     "data": {
      "text/plain": [
       "Seat_comfort                0\n",
       "Seat_Class                  0\n",
       "Arrival_time_convenient     0\n",
       "Catering                    0\n",
       "Platform_location          30\n",
       "Onboardwifi_service        30\n",
       "Onboard_entertainment      18\n",
       "Online_support             91\n",
       "Onlinebooking_Ease         73\n",
       "Onboard_service             0\n",
       "Leg_room                    0\n",
       "Baggage_handling            0\n",
       "Checkin_service             0\n",
       "Cleanliness                 0\n",
       "Online_boarding             0\n",
       "Gender                      0\n",
       "CustomerType                0\n",
       "TypeTravel                  0\n",
       "Travel_Class                0\n",
       "dtype: int64"
      ]
     },
     "execution_count": 34,
     "metadata": {},
     "output_type": "execute_result"
    }
   ],
   "source": [
    "df_train_cat.isnull().sum()"
   ]
  },
  {
   "cell_type": "code",
   "execution_count": 35,
   "id": "c2e0184b",
   "metadata": {},
   "outputs": [],
   "source": [
    "df_train_cat.Platform_location.fillna(df_train_cat.Platform_location.mode()[0],inplace=True)"
   ]
  },
  {
   "cell_type": "code",
   "execution_count": 36,
   "id": "72699259",
   "metadata": {},
   "outputs": [],
   "source": [
    "df_train_cat.Onboardwifi_service.fillna(df_train_cat.Onboardwifi_service.mode()[0],inplace=True)"
   ]
  },
  {
   "cell_type": "code",
   "execution_count": 37,
   "id": "98b820cb",
   "metadata": {},
   "outputs": [],
   "source": [
    "df_train_cat.Onboard_entertainment.fillna(df_train_cat.Onboard_entertainment.mode()[0],inplace=True)"
   ]
  },
  {
   "cell_type": "code",
   "execution_count": 38,
   "id": "a8dae8ab",
   "metadata": {},
   "outputs": [],
   "source": [
    "df_train_cat.Online_support.fillna(df_train_cat.Online_support.mode()[0],inplace=True)"
   ]
  },
  {
   "cell_type": "code",
   "execution_count": 39,
   "id": "7919d754",
   "metadata": {},
   "outputs": [],
   "source": [
    "df_train_cat.Onlinebooking_Ease.fillna(df_train_cat.Onlinebooking_Ease.mode()[0],inplace=True)"
   ]
  },
  {
   "cell_type": "code",
   "execution_count": 40,
   "id": "3dfbe9e5",
   "metadata": {},
   "outputs": [
    {
     "data": {
      "text/plain": [
       "Seat_comfort               0\n",
       "Seat_Class                 0\n",
       "Arrival_time_convenient    0\n",
       "Catering                   0\n",
       "Platform_location          0\n",
       "Onboardwifi_service        0\n",
       "Onboard_entertainment      0\n",
       "Online_support             0\n",
       "Onlinebooking_Ease         0\n",
       "Onboard_service            0\n",
       "Leg_room                   0\n",
       "Baggage_handling           0\n",
       "Checkin_service            0\n",
       "Cleanliness                0\n",
       "Online_boarding            0\n",
       "Gender                     0\n",
       "CustomerType               0\n",
       "TypeTravel                 0\n",
       "Travel_Class               0\n",
       "dtype: int64"
      ]
     },
     "execution_count": 40,
     "metadata": {},
     "output_type": "execute_result"
    }
   ],
   "source": [
    "df_train_cat.isnull().sum()"
   ]
  },
  {
   "cell_type": "code",
   "execution_count": 41,
   "id": "fef4172a",
   "metadata": {},
   "outputs": [],
   "source": [
    "from scipy.stats import zscore"
   ]
  },
  {
   "cell_type": "code",
   "execution_count": 42,
   "id": "063581ae",
   "metadata": {},
   "outputs": [],
   "source": [
    "df_train_num_scaled = df_train_num[['Age','Travel_Distance','DepartureDelay_in_Mins','ArrivalDelay_in_Mins']].apply(zscore)"
   ]
  },
  {
   "cell_type": "code",
   "execution_count": 43,
   "id": "b06688ed",
   "metadata": {},
   "outputs": [
    {
     "data": {
      "text/html": [
       "<div>\n",
       "<style scoped>\n",
       "    .dataframe tbody tr th:only-of-type {\n",
       "        vertical-align: middle;\n",
       "    }\n",
       "\n",
       "    .dataframe tbody tr th {\n",
       "        vertical-align: top;\n",
       "    }\n",
       "\n",
       "    .dataframe thead th {\n",
       "        text-align: right;\n",
       "    }\n",
       "</style>\n",
       "<table border=\"1\" class=\"dataframe\">\n",
       "  <thead>\n",
       "    <tr style=\"text-align: right;\">\n",
       "      <th></th>\n",
       "      <th>Age</th>\n",
       "      <th>Travel_Distance</th>\n",
       "      <th>DepartureDelay_in_Mins</th>\n",
       "      <th>ArrivalDelay_in_Mins</th>\n",
       "    </tr>\n",
       "  </thead>\n",
       "  <tbody>\n",
       "    <tr>\n",
       "      <th>0</th>\n",
       "      <td>0.832379</td>\n",
       "      <td>-1.660469</td>\n",
       "      <td>-0.384171</td>\n",
       "      <td>-0.260780</td>\n",
       "    </tr>\n",
       "    <tr>\n",
       "      <th>1</th>\n",
       "      <td>0.567722</td>\n",
       "      <td>0.215099</td>\n",
       "      <td>-0.148118</td>\n",
       "      <td>-0.391102</td>\n",
       "    </tr>\n",
       "    <tr>\n",
       "      <th>2</th>\n",
       "      <td>0.236901</td>\n",
       "      <td>-0.892926</td>\n",
       "      <td>1.635392</td>\n",
       "      <td>2.710567</td>\n",
       "    </tr>\n",
       "    <tr>\n",
       "      <th>3</th>\n",
       "      <td>0.303065</td>\n",
       "      <td>-1.166284</td>\n",
       "      <td>-0.043206</td>\n",
       "      <td>0.078058</td>\n",
       "    </tr>\n",
       "    <tr>\n",
       "      <th>4</th>\n",
       "      <td>0.700050</td>\n",
       "      <td>0.002054</td>\n",
       "      <td>-0.384171</td>\n",
       "      <td>-0.391102</td>\n",
       "    </tr>\n",
       "    <tr>\n",
       "      <th>...</th>\n",
       "      <td>...</td>\n",
       "      <td>...</td>\n",
       "      <td>...</td>\n",
       "      <td>...</td>\n",
       "    </tr>\n",
       "    <tr>\n",
       "      <th>94374</th>\n",
       "      <td>-0.490905</td>\n",
       "      <td>-0.604976</td>\n",
       "      <td>1.792761</td>\n",
       "      <td>2.866954</td>\n",
       "    </tr>\n",
       "    <tr>\n",
       "      <th>94375</th>\n",
       "      <td>0.303065</td>\n",
       "      <td>-1.349171</td>\n",
       "      <td>-0.253030</td>\n",
       "      <td>-0.104393</td>\n",
       "    </tr>\n",
       "    <tr>\n",
       "      <th>94376</th>\n",
       "      <td>1.560185</td>\n",
       "      <td>0.792945</td>\n",
       "      <td>-0.384171</td>\n",
       "      <td>-0.391102</td>\n",
       "    </tr>\n",
       "    <tr>\n",
       "      <th>94377</th>\n",
       "      <td>-1.549533</td>\n",
       "      <td>0.744304</td>\n",
       "      <td>-0.384171</td>\n",
       "      <td>-0.391102</td>\n",
       "    </tr>\n",
       "    <tr>\n",
       "      <th>94378</th>\n",
       "      <td>0.964707</td>\n",
       "      <td>0.124628</td>\n",
       "      <td>0.350216</td>\n",
       "      <td>0.338702</td>\n",
       "    </tr>\n",
       "  </tbody>\n",
       "</table>\n",
       "<p>94379 rows × 4 columns</p>\n",
       "</div>"
      ],
      "text/plain": [
       "            Age  Travel_Distance  DepartureDelay_in_Mins  ArrivalDelay_in_Mins\n",
       "0      0.832379        -1.660469               -0.384171             -0.260780\n",
       "1      0.567722         0.215099               -0.148118             -0.391102\n",
       "2      0.236901        -0.892926                1.635392              2.710567\n",
       "3      0.303065        -1.166284               -0.043206              0.078058\n",
       "4      0.700050         0.002054               -0.384171             -0.391102\n",
       "...         ...              ...                     ...                   ...\n",
       "94374 -0.490905        -0.604976                1.792761              2.866954\n",
       "94375  0.303065        -1.349171               -0.253030             -0.104393\n",
       "94376  1.560185         0.792945               -0.384171             -0.391102\n",
       "94377 -1.549533         0.744304               -0.384171             -0.391102\n",
       "94378  0.964707         0.124628                0.350216              0.338702\n",
       "\n",
       "[94379 rows x 4 columns]"
      ]
     },
     "execution_count": 43,
     "metadata": {},
     "output_type": "execute_result"
    }
   ],
   "source": [
    "df_train_num_scaled"
   ]
  },
  {
   "cell_type": "code",
   "execution_count": 44,
   "id": "b81171e8",
   "metadata": {},
   "outputs": [],
   "source": [
    "df_train = pd.concat([df_train_num['Overall_Experience'],df_train_num_scaled,df_train_cat],axis=1,join = 'inner')"
   ]
  },
  {
   "cell_type": "code",
   "execution_count": 45,
   "id": "95ee6f92",
   "metadata": {},
   "outputs": [],
   "source": [
    "df_train['Overall_Experience'] = df_train['Overall_Experience'].astype('int64')"
   ]
  },
  {
   "cell_type": "code",
   "execution_count": 46,
   "id": "cb45d462",
   "metadata": {},
   "outputs": [],
   "source": [
    "df_train['Seat_comfort'] = np.where(df_train['Seat_comfort'] == 'extremely poor','0',df_train['Seat_comfort'] )\n",
    "df_train['Seat_comfort'] = np.where(df_train['Seat_comfort'] == 'poor','1',df_train['Seat_comfort'] )\n",
    "df_train['Seat_comfort'] = np.where(df_train['Seat_comfort'] == 'need improvement','2',df_train['Seat_comfort'] )\n",
    "df_train['Seat_comfort'] = np.where(df_train['Seat_comfort'] == 'acceptable','3',df_train['Seat_comfort'] )\n",
    "df_train['Seat_comfort'] = np.where(df_train['Seat_comfort'] == 'good','4',df_train['Seat_comfort'] )\n",
    "df_train['Seat_comfort'] = np.where(df_train['Seat_comfort'] == 'excellent','5',df_train['Seat_comfort'] )"
   ]
  },
  {
   "cell_type": "code",
   "execution_count": 47,
   "id": "1382eed4",
   "metadata": {},
   "outputs": [],
   "source": [
    "df_train['Arrival_time_convenient'] = np.where(df_train['Arrival_time_convenient'] == 'extremely poor', '0',df_train['Arrival_time_convenient'])\n",
    "df_train['Arrival_time_convenient'] = np.where(df_train['Arrival_time_convenient'] == 'poor', '1',df_train['Arrival_time_convenient'])\n",
    "df_train['Arrival_time_convenient'] = np.where(df_train['Arrival_time_convenient'] == 'need improvement', '2',df_train['Arrival_time_convenient'])\n",
    "df_train['Arrival_time_convenient'] = np.where(df_train['Arrival_time_convenient'] == 'acceptable', '3',df_train['Arrival_time_convenient'])\n",
    "df_train['Arrival_time_convenient'] = np.where(df_train['Arrival_time_convenient'] == 'good', '4',df_train['Arrival_time_convenient'])\n",
    "df_train['Arrival_time_convenient'] = np.where(df_train['Arrival_time_convenient'] == 'excellent', '5',df_train['Arrival_time_convenient'])"
   ]
  },
  {
   "cell_type": "code",
   "execution_count": 48,
   "id": "45f6b609",
   "metadata": {},
   "outputs": [],
   "source": [
    "df_train['Platform_location'] = np.where(df_train['Platform_location'] == 'very inconvinient', '0',df_train['Platform_location'])\n",
    "df_train['Platform_location'] = np.where(df_train['Platform_location'] == 'Inconvinient', '1',df_train['Platform_location'])\n",
    "df_train['Platform_location'] = np.where(df_train['Platform_location'] == 'need improvement', '2',df_train['Platform_location'])\n",
    "df_train['Platform_location'] = np.where(df_train['Platform_location'] == 'manageable', '3',df_train['Platform_location'])\n",
    "df_train['Platform_location'] = np.where(df_train['Platform_location'] == 'Convinient', '4',df_train['Platform_location'])\n",
    "df_train['Platform_location'] = np.where(df_train['Platform_location'] == 'very convinient', '5',df_train['Platform_location'])"
   ]
  },
  {
   "cell_type": "code",
   "execution_count": 49,
   "id": "9745896f",
   "metadata": {},
   "outputs": [],
   "source": [
    "df_train['Seat_Class'] = np.where(df_train['Seat_Class'] == 'Ordinary', '0',df_train['Seat_Class'])\n",
    "df_train['Seat_Class'] = np.where(df_train['Seat_Class'] == 'Green Car', '1',df_train['Seat_Class'])"
   ]
  },
  {
   "cell_type": "code",
   "execution_count": 50,
   "id": "ab7710cb",
   "metadata": {},
   "outputs": [],
   "source": [
    "df_train['Catering'] = np.where(df_train['Catering'] == 'extremely poor', '0',df_train['Catering'])\n",
    "df_train['Catering'] = np.where(df_train['Catering'] == 'poor', '1',df_train['Catering'])\n",
    "df_train['Catering'] = np.where(df_train['Catering'] == 'need improvement', '2',df_train['Catering'])\n",
    "df_train['Catering'] = np.where(df_train['Catering'] == 'acceptable', '3',df_train['Catering'])\n",
    "df_train['Catering'] = np.where(df_train['Catering'] == 'good', '4',df_train['Catering'])\n",
    "df_train['Catering'] = np.where(df_train['Catering'] == 'excellent', '5',df_train['Catering'])"
   ]
  },
  {
   "cell_type": "code",
   "execution_count": 51,
   "id": "faabe3cd",
   "metadata": {},
   "outputs": [],
   "source": [
    "df_train['Onboardwifi_service'] = np.where(df_train['Onboardwifi_service'] == 'extremely poor', '0',df_train['Onboardwifi_service'])\n",
    "df_train['Onboardwifi_service'] = np.where(df_train['Onboardwifi_service'] == 'poor', '1',df_train['Onboardwifi_service'])\n",
    "df_train['Onboardwifi_service'] = np.where(df_train['Onboardwifi_service'] == 'need improvement', '2',df_train['Onboardwifi_service'])\n",
    "df_train['Onboardwifi_service'] = np.where(df_train['Onboardwifi_service'] == 'acceptable', '3',df_train['Onboardwifi_service'])\n",
    "df_train['Onboardwifi_service'] = np.where(df_train['Onboardwifi_service'] == 'good', '4',df_train['Onboardwifi_service'])\n",
    "df_train['Onboardwifi_service'] = np.where(df_train['Onboardwifi_service'] == 'excellent', '5',df_train['Onboardwifi_service'])"
   ]
  },
  {
   "cell_type": "code",
   "execution_count": 52,
   "id": "dfa5e709",
   "metadata": {},
   "outputs": [],
   "source": [
    "df_train['Online_support'] = np.where(df_train['Online_support'] == 'extremely poor', '0',df_train['Online_support'])\n",
    "df_train['Online_support'] = np.where(df_train['Online_support'] == 'poor', '1',df_train['Online_support'])\n",
    "df_train['Online_support'] = np.where(df_train['Online_support'] == 'need improvement', '2',df_train['Online_support'])\n",
    "df_train['Online_support'] = np.where(df_train['Online_support'] == 'acceptable', '3',df_train['Online_support'])\n",
    "df_train['Online_support'] = np.where(df_train['Online_support'] == 'good', '4',df_train['Online_support'])\n",
    "df_train['Online_support'] = np.where(df_train['Online_support'] == 'excellent', '5',df_train['Online_support'])"
   ]
  },
  {
   "cell_type": "code",
   "execution_count": 53,
   "id": "ca8f47b3",
   "metadata": {},
   "outputs": [],
   "source": [
    "df_train['Onboard_entertainment'] = np.where(df_train['Onboard_entertainment'] == 'extremely poor', '0',df_train['Onboard_entertainment'])\n",
    "df_train['Onboard_entertainment'] = np.where(df_train['Onboard_entertainment'] == 'poor', '1',df_train['Onboard_entertainment'])\n",
    "df_train['Onboard_entertainment'] = np.where(df_train['Onboard_entertainment'] == 'need improvement', '2',df_train['Onboard_entertainment'])\n",
    "df_train['Onboard_entertainment'] = np.where(df_train['Onboard_entertainment'] == 'acceptable', '3',df_train['Onboard_entertainment'])\n",
    "df_train['Onboard_entertainment'] = np.where(df_train['Onboard_entertainment'] == 'good', '4',df_train['Onboard_entertainment'])\n",
    "df_train['Onboard_entertainment'] = np.where(df_train['Onboard_entertainment'] == 'excellent', '5',df_train['Onboard_entertainment'])"
   ]
  },
  {
   "cell_type": "code",
   "execution_count": 54,
   "id": "b181981c",
   "metadata": {},
   "outputs": [],
   "source": [
    "df_train['Onboard_service'] = np.where(df_train['Onboard_service'] == 'extremely poor', '0',df_train['Onboard_service'])\n",
    "df_train['Onboard_service'] = np.where(df_train['Onboard_service'] == 'poor', '1',df_train['Onboard_service'])\n",
    "df_train['Onboard_service'] = np.where(df_train['Onboard_service'] == 'need improvement', '2',df_train['Onboard_service'])\n",
    "df_train['Onboard_service'] = np.where(df_train['Onboard_service'] == 'acceptable', '3',df_train['Onboard_service'])\n",
    "df_train['Onboard_service'] = np.where(df_train['Onboard_service'] == 'good', '4',df_train['Onboard_service'])\n",
    "df_train['Onboard_service'] = np.where(df_train['Onboard_service'] == 'excellent', '5',df_train['Onboard_service'])"
   ]
  },
  {
   "cell_type": "code",
   "execution_count": 55,
   "id": "fab69647",
   "metadata": {},
   "outputs": [],
   "source": [
    "df_train['Leg_room'] = np.where(df_train['Leg_room'] == 'extremely poor', '0',df_train['Leg_room'])\n",
    "df_train['Leg_room'] = np.where(df_train['Leg_room'] == 'poor', '1',df_train['Leg_room'])\n",
    "df_train['Leg_room'] = np.where(df_train['Leg_room'] == 'need improvement', '2',df_train['Leg_room'])\n",
    "df_train['Leg_room'] = np.where(df_train['Leg_room'] == 'acceptable', '3',df_train['Leg_room'])\n",
    "df_train['Leg_room'] = np.where(df_train['Leg_room'] == 'good', '4',df_train['Leg_room'])\n",
    "df_train['Leg_room'] = np.where(df_train['Leg_room'] == 'excellent', '5',df_train['Leg_room'])"
   ]
  },
  {
   "cell_type": "code",
   "execution_count": 56,
   "id": "ea3b6d70",
   "metadata": {},
   "outputs": [],
   "source": [
    "df_train['Checkin_service'] = np.where(df_train['Checkin_service'] == 'extremely poor', '0',df_train['Checkin_service'])\n",
    "df_train['Checkin_service'] = np.where(df_train['Checkin_service'] == 'poor', '1',df_train['Checkin_service'])\n",
    "df_train['Checkin_service'] = np.where(df_train['Checkin_service'] == 'need improvement', '2',df_train['Checkin_service'])\n",
    "df_train['Checkin_service'] = np.where(df_train['Checkin_service'] == 'acceptable', '3',df_train['Checkin_service'])\n",
    "df_train['Checkin_service'] = np.where(df_train['Checkin_service'] == 'good', '4',df_train['Checkin_service'])\n",
    "df_train['Checkin_service'] = np.where(df_train['Checkin_service'] == 'excellent', '5',df_train['Checkin_service'])"
   ]
  },
  {
   "cell_type": "code",
   "execution_count": 57,
   "id": "cbacb7b4",
   "metadata": {},
   "outputs": [],
   "source": [
    "df_train['Online_boarding'] = np.where(df_train['Online_boarding'] == 'extremely poor', '0',df_train['Online_boarding'])\n",
    "df_train['Online_boarding'] = np.where(df_train['Online_boarding'] == 'poor', '1',df_train['Online_boarding'])\n",
    "df_train['Online_boarding'] = np.where(df_train['Online_boarding'] == 'need improvement', '2',df_train['Online_boarding'])\n",
    "df_train['Online_boarding'] = np.where(df_train['Online_boarding'] == 'acceptable', '3',df_train['Online_boarding'])\n",
    "df_train['Online_boarding'] = np.where(df_train['Online_boarding'] == 'good', '4',df_train['Online_boarding'])\n",
    "df_train['Online_boarding'] = np.where(df_train['Online_boarding'] == 'excellent', '5',df_train['Online_boarding'])"
   ]
  },
  {
   "cell_type": "code",
   "execution_count": 58,
   "id": "2482c6e1",
   "metadata": {},
   "outputs": [],
   "source": [
    "df_train['Travel_Class'] = np.where(df_train['Travel_Class'] == 'Eco', '0',df_train['Travel_Class'])\n",
    "df_train['Travel_Class'] = np.where(df_train['Travel_Class'] == 'Business', '1',df_train['Travel_Class'])"
   ]
  },
  {
   "cell_type": "code",
   "execution_count": 59,
   "id": "489132df",
   "metadata": {},
   "outputs": [],
   "source": [
    "df_train['TypeTravel'] = np.where(df_train['TypeTravel'] == 'Personal Travel', '0',df_train['TypeTravel'])\n",
    "df_train['TypeTravel'] = np.where(df_train['TypeTravel'] == 'Business travel', '1',df_train['TypeTravel'])"
   ]
  },
  {
   "cell_type": "code",
   "execution_count": 60,
   "id": "5424e95b",
   "metadata": {},
   "outputs": [],
   "source": [
    "df_train['CustomerType'] = np.where(df_train['CustomerType'] == 'disloyal Customer', '0',df_train['CustomerType'])\n",
    "df_train['CustomerType'] = np.where(df_train['CustomerType'] == 'Loyal Customer', '1',df_train['CustomerType'])"
   ]
  },
  {
   "cell_type": "code",
   "execution_count": 61,
   "id": "b6e19f1d",
   "metadata": {},
   "outputs": [],
   "source": [
    "df_train['Cleanliness'] = np.where(df_train['Cleanliness'] == 'extremely poor', '0',df_train['Cleanliness'])\n",
    "df_train['Cleanliness'] = np.where(df_train['Cleanliness'] == 'poor', '1',df_train['Cleanliness'])\n",
    "df_train['Cleanliness'] = np.where(df_train['Cleanliness'] == 'need improvement', '2',df_train['Cleanliness'])\n",
    "df_train['Cleanliness'] = np.where(df_train['Cleanliness'] == 'acceptable', '3',df_train['Cleanliness'])\n",
    "df_train['Cleanliness'] = np.where(df_train['Cleanliness'] == 'good', '4',df_train['Cleanliness'])\n",
    "df_train['Cleanliness'] = np.where(df_train['Cleanliness'] == 'excellent', '5',df_train['Cleanliness'])"
   ]
  },
  {
   "cell_type": "code",
   "execution_count": 62,
   "id": "17de1bbd",
   "metadata": {},
   "outputs": [],
   "source": [
    "df_train['Baggage_handling'] = np.where(df_train['Baggage_handling'] == 'extremely poor', '0',df_train['Baggage_handling'])\n",
    "df_train['Baggage_handling'] = np.where(df_train['Baggage_handling'] == 'poor', '1',df_train['Baggage_handling'])\n",
    "df_train['Baggage_handling'] = np.where(df_train['Baggage_handling'] == 'need improvement', '2',df_train['Baggage_handling'])\n",
    "df_train['Baggage_handling'] = np.where(df_train['Baggage_handling'] == 'acceptable', '3',df_train['Baggage_handling'])\n",
    "df_train['Baggage_handling'] = np.where(df_train['Baggage_handling'] == 'good', '4',df_train['Baggage_handling'])\n",
    "df_train['Baggage_handling'] = np.where(df_train['Baggage_handling'] == 'excellent', '5',df_train['Baggage_handling'])"
   ]
  },
  {
   "cell_type": "code",
   "execution_count": 63,
   "id": "e7baed60",
   "metadata": {},
   "outputs": [],
   "source": [
    "df_train['Onlinebooking_Ease'] = np.where(df_train['Onlinebooking_Ease'] == 'extremely poor', '0',df_train['Onlinebooking_Ease'])\n",
    "df_train['Onlinebooking_Ease'] = np.where(df_train['Onlinebooking_Ease'] == 'poor', '1',df_train['Onlinebooking_Ease'])\n",
    "df_train['Onlinebooking_Ease'] = np.where(df_train['Onlinebooking_Ease'] == 'need improvement', '2',df_train['Onlinebooking_Ease'])\n",
    "df_train['Onlinebooking_Ease'] = np.where(df_train['Onlinebooking_Ease'] == 'acceptable', '3',df_train['Onlinebooking_Ease'])\n",
    "df_train['Onlinebooking_Ease'] = np.where(df_train['Onlinebooking_Ease'] == 'good', '4',df_train['Onlinebooking_Ease'])\n",
    "df_train['Onlinebooking_Ease'] = np.where(df_train['Onlinebooking_Ease'] == 'excellent', '5',df_train['Onlinebooking_Ease'])"
   ]
  },
  {
   "cell_type": "code",
   "execution_count": 64,
   "id": "581aa88a",
   "metadata": {},
   "outputs": [],
   "source": [
    "df_train['Gender'] = np.where(df_train['Gender'] == 'Female', '0',df_train['Gender'])\n",
    "df_train['Gender'] = np.where(df_train['Gender'] == 'Male', '1',df_train['Gender'])"
   ]
  },
  {
   "cell_type": "code",
   "execution_count": 65,
   "id": "812215d4",
   "metadata": {},
   "outputs": [],
   "source": [
    "## Convert all the features data types into 'int64'\n",
    "df_train['Seat_comfort'] = df_train['Seat_comfort'].astype('int64')\n",
    "df_train['Seat_Class'] = df_train['Seat_Class'].astype('int64')\n",
    "df_train['Arrival_time_convenient'] = df_train['Arrival_time_convenient'].astype('int64')\n",
    "df_train['Catering'] = df_train['Catering'].astype('int64')\n",
    "df_train['Platform_location'] = df_train['Platform_location'].astype('int64')\n",
    "df_train['Onboardwifi_service'] = df_train['Onboardwifi_service'].astype('int64')\n",
    "df_train['Onboard_entertainment'] = df_train['Onboard_entertainment'].astype('int64')\n",
    "df_train['Online_support'] = df_train['Online_support'].astype('int64')\n",
    "df_train['Onlinebooking_Ease'] = df_train['Onlinebooking_Ease'].astype('int64')\n",
    "df_train['Onboard_service'] = df_train['Onboard_service'].astype('int64')\n",
    "df_train['Leg_room'] = df_train['Leg_room'].astype('int64')\n",
    "df_train['Baggage_handling'] = df_train['Baggage_handling'].astype('int64')\n",
    "df_train['Checkin_service'] = df_train['Checkin_service'].astype('int64')\n",
    "df_train['Cleanliness'] = df_train['Cleanliness'].astype('int64')\n",
    "df_train['Online_boarding'] = df_train['Online_boarding'].astype('int64')\n",
    "df_train['Gender'] = df_train['Gender'].astype('int64')\n",
    "df_train['CustomerType'] = df_train['CustomerType'].astype('int64')\n",
    "df_train['TypeTravel'] = df_train['TypeTravel'].astype('int64')\n",
    "df_train['Travel_Class'] = df_train['Travel_Class'].astype('int64')"
   ]
  },
  {
   "cell_type": "code",
   "execution_count": 66,
   "id": "26deb50d",
   "metadata": {},
   "outputs": [],
   "source": [
    "## Read the test data which is provided\n",
    "df_Surveydata_test = pd.read_csv(r\"C:\\Users\\ANAY TIWARI\\OneDrive\\Desktop\\Hackathon_GL\\Surveydata_test_(1).csv\")\n",
    "df_Traveldata_test = pd.read_csv(r\"C:\\Users\\ANAY TIWARI\\OneDrive\\Desktop\\Hackathon_GL\\Traveldata_test_(1).csv\")"
   ]
  },
  {
   "cell_type": "code",
   "execution_count": 67,
   "id": "c06a6985",
   "metadata": {},
   "outputs": [],
   "source": [
    "## Merge the Survey test and Travel test data\n",
    "df_test = pd.merge(df_Surveydata_test,df_Traveldata_test,on='ID',how='outer')"
   ]
  },
  {
   "cell_type": "code",
   "execution_count": 68,
   "id": "c48bb2ae",
   "metadata": {},
   "outputs": [],
   "source": [
    "## Splitting the data into categorical variables and numerical variables\n",
    "df_test_cat = df_test.select_dtypes(['object'])\n",
    "df_test_num = df_test.select_dtypes(['int64','float64'])"
   ]
  },
  {
   "cell_type": "code",
   "execution_count": 69,
   "id": "44b64051",
   "metadata": {},
   "outputs": [
    {
     "data": {
      "text/plain": [
       "Seat_comfort                 22\n",
       "Seat_Class                    0\n",
       "Arrival_time_convenient    3325\n",
       "Catering                   3357\n",
       "Platform_location            12\n",
       "Onboardwifi_service          12\n",
       "Onboard_entertainment         8\n",
       "Online_support               26\n",
       "Onlinebooking_Ease           18\n",
       "Onboard_service            2872\n",
       "Leg_room                     25\n",
       "Baggage_handling             40\n",
       "Checkin_service              22\n",
       "Cleanliness                   2\n",
       "Online_boarding               2\n",
       "Gender                       30\n",
       "CustomerType               3383\n",
       "TypeTravel                 3448\n",
       "Travel_Class                  0\n",
       "dtype: int64"
      ]
     },
     "execution_count": 69,
     "metadata": {},
     "output_type": "execute_result"
    }
   ],
   "source": [
    "df_test_cat.isnull().sum()"
   ]
  },
  {
   "cell_type": "code",
   "execution_count": 70,
   "id": "17acf9b6",
   "metadata": {},
   "outputs": [],
   "source": [
    "df_test_cat.Seat_comfort.fillna(df_test_cat.Seat_comfort.mode()[0],inplace=True)"
   ]
  },
  {
   "cell_type": "code",
   "execution_count": 71,
   "id": "ea264a0f",
   "metadata": {},
   "outputs": [],
   "source": [
    "df_test_cat.Arrival_time_convenient.fillna(df_test_cat.Arrival_time_convenient.mode()[0],inplace=True)"
   ]
  },
  {
   "cell_type": "code",
   "execution_count": 72,
   "id": "95cf45d8",
   "metadata": {},
   "outputs": [],
   "source": [
    "df_test_cat.Catering.fillna(df_test_cat.Catering.mode()[0],inplace=True)"
   ]
  },
  {
   "cell_type": "code",
   "execution_count": 73,
   "id": "381376ae",
   "metadata": {},
   "outputs": [],
   "source": [
    "df_test_cat.Platform_location.fillna(df_test_cat.Platform_location.mode()[0],inplace=True)"
   ]
  },
  {
   "cell_type": "code",
   "execution_count": 74,
   "id": "aae36103",
   "metadata": {},
   "outputs": [],
   "source": [
    "df_test_cat.Onboardwifi_service.fillna(df_test_cat.Onboardwifi_service.mode()[0],inplace=True)"
   ]
  },
  {
   "cell_type": "code",
   "execution_count": 75,
   "id": "b8048d31",
   "metadata": {},
   "outputs": [],
   "source": [
    "df_test_cat.Onboard_entertainment.fillna(df_test_cat.Onboard_entertainment.mode()[0],inplace=True)"
   ]
  },
  {
   "cell_type": "code",
   "execution_count": 76,
   "id": "06fba50d",
   "metadata": {},
   "outputs": [],
   "source": [
    "df_test_cat.Online_support.fillna(df_test_cat.Online_support.mode()[0],inplace=True)"
   ]
  },
  {
   "cell_type": "code",
   "execution_count": 77,
   "id": "6d28adf4",
   "metadata": {},
   "outputs": [],
   "source": [
    "df_test_cat.Onlinebooking_Ease.fillna(df_test_cat.Onlinebooking_Ease.mode()[0],inplace=True)"
   ]
  },
  {
   "cell_type": "code",
   "execution_count": 78,
   "id": "2a8fffd8",
   "metadata": {},
   "outputs": [],
   "source": [
    "df_test_cat.Onboard_service.fillna(df_test_cat.Onboard_service.mode()[0],inplace=True)"
   ]
  },
  {
   "cell_type": "code",
   "execution_count": 79,
   "id": "aa15603e",
   "metadata": {},
   "outputs": [],
   "source": [
    "df_test_cat.Leg_room.fillna(df_test_cat.Leg_room.mode()[0],inplace=True)"
   ]
  },
  {
   "cell_type": "code",
   "execution_count": 80,
   "id": "73a7ce34",
   "metadata": {},
   "outputs": [],
   "source": [
    "df_test_cat.Baggage_handling.fillna(df_test_cat.Baggage_handling.mode()[0],inplace=True)"
   ]
  },
  {
   "cell_type": "code",
   "execution_count": 81,
   "id": "a6297769",
   "metadata": {},
   "outputs": [],
   "source": [
    "df_test_cat.Checkin_service.fillna(df_test_cat.Checkin_service.mode()[0],inplace=True)"
   ]
  },
  {
   "cell_type": "code",
   "execution_count": 82,
   "id": "e837922a",
   "metadata": {},
   "outputs": [],
   "source": [
    "df_test_cat.Cleanliness.fillna(df_test_cat.Cleanliness.mode()[0],inplace=True)"
   ]
  },
  {
   "cell_type": "code",
   "execution_count": 83,
   "id": "b3fa43ee",
   "metadata": {},
   "outputs": [],
   "source": [
    "df_test_cat.Online_boarding.fillna(df_test_cat.Online_boarding.mode()[0],inplace=True)"
   ]
  },
  {
   "cell_type": "code",
   "execution_count": 84,
   "id": "41e756f6",
   "metadata": {},
   "outputs": [],
   "source": [
    "df_test_cat.Gender.fillna(df_test_cat.Gender.mode()[0],inplace=True)"
   ]
  },
  {
   "cell_type": "code",
   "execution_count": 85,
   "id": "cd9dcfc1",
   "metadata": {},
   "outputs": [],
   "source": [
    "df_test_cat.CustomerType.fillna(df_test_cat.CustomerType.mode()[0],inplace=True)"
   ]
  },
  {
   "cell_type": "code",
   "execution_count": 86,
   "id": "cb0b65e3",
   "metadata": {},
   "outputs": [],
   "source": [
    "df_test_cat.TypeTravel.fillna(df_test_cat.TypeTravel.mode()[0],inplace=True)"
   ]
  },
  {
   "cell_type": "code",
   "execution_count": 87,
   "id": "b5d23f6e",
   "metadata": {},
   "outputs": [
    {
     "data": {
      "text/plain": [
       "Seat_comfort               0\n",
       "Seat_Class                 0\n",
       "Arrival_time_convenient    0\n",
       "Catering                   0\n",
       "Platform_location          0\n",
       "Onboardwifi_service        0\n",
       "Onboard_entertainment      0\n",
       "Online_support             0\n",
       "Onlinebooking_Ease         0\n",
       "Onboard_service            0\n",
       "Leg_room                   0\n",
       "Baggage_handling           0\n",
       "Checkin_service            0\n",
       "Cleanliness                0\n",
       "Online_boarding            0\n",
       "Gender                     0\n",
       "CustomerType               0\n",
       "TypeTravel                 0\n",
       "Travel_Class               0\n",
       "dtype: int64"
      ]
     },
     "execution_count": 87,
     "metadata": {},
     "output_type": "execute_result"
    }
   ],
   "source": [
    "df_test_cat.isnull().sum()"
   ]
  },
  {
   "cell_type": "code",
   "execution_count": 88,
   "id": "666b53e1",
   "metadata": {},
   "outputs": [
    {
     "data": {
      "text/plain": [
       "ID                          0\n",
       "Age                        11\n",
       "Travel_Distance             0\n",
       "DepartureDelay_in_Mins     29\n",
       "ArrivalDelay_in_Mins      123\n",
       "dtype: int64"
      ]
     },
     "execution_count": 88,
     "metadata": {},
     "output_type": "execute_result"
    }
   ],
   "source": [
    "df_test_num.isnull().sum()"
   ]
  },
  {
   "cell_type": "code",
   "execution_count": 89,
   "id": "a4f63cab",
   "metadata": {},
   "outputs": [],
   "source": [
    "df_test_num.Age.fillna(df_test_num.Age.mode()[0],inplace=True)"
   ]
  },
  {
   "cell_type": "code",
   "execution_count": 90,
   "id": "0724eee4",
   "metadata": {},
   "outputs": [
    {
     "data": {
      "text/plain": [
       "array([36., 21., 60., 29., 18., 49., 40., 11., 57., 43., 20., 15., 28.,\n",
       "       17., 34., 63., 35., 25., 27., 32., 46., 54., 33., 30., 37., 47.,\n",
       "       42., 58., 31., 48., 44., 65., 45., 24., 19., 66., 70., 10., 41.,\n",
       "       52., 23., 22., 26., 68., 38., 51., 53., 50.,  7., 69., 39., 56.,\n",
       "       59., 16., 14., 55., 62.,  8., 13.,  9., 64., 77., 12., 61., 80.,\n",
       "       67., 76., 71., 72., 78., 73., 75., 74., 85., 79.])"
      ]
     },
     "execution_count": 90,
     "metadata": {},
     "output_type": "execute_result"
    }
   ],
   "source": [
    "df_test_num.Age.unique()"
   ]
  },
  {
   "cell_type": "code",
   "execution_count": 91,
   "id": "29234bcc",
   "metadata": {},
   "outputs": [
    {
     "data": {
      "text/plain": [
       "14.88069603350856"
      ]
     },
     "execution_count": 91,
     "metadata": {},
     "output_type": "execute_result"
    }
   ],
   "source": [
    "df_test_num.DepartureDelay_in_Mins.mean()"
   ]
  },
  {
   "cell_type": "code",
   "execution_count": 92,
   "id": "40682709",
   "metadata": {},
   "outputs": [],
   "source": [
    "df_test_num.DepartureDelay_in_Mins.fillna(15,inplace=True)"
   ]
  },
  {
   "cell_type": "code",
   "execution_count": 93,
   "id": "bf8bf52f",
   "metadata": {},
   "outputs": [],
   "source": [
    "df_test_num.ArrivalDelay_in_Mins.fillna(15,inplace=True)"
   ]
  },
  {
   "cell_type": "code",
   "execution_count": 94,
   "id": "048c7a3f",
   "metadata": {},
   "outputs": [
    {
     "data": {
      "text/plain": [
       "ID                        0\n",
       "Age                       0\n",
       "Travel_Distance           0\n",
       "DepartureDelay_in_Mins    0\n",
       "ArrivalDelay_in_Mins      0\n",
       "dtype: int64"
      ]
     },
     "execution_count": 94,
     "metadata": {},
     "output_type": "execute_result"
    }
   ],
   "source": [
    "df_test_num.isnull().sum()"
   ]
  },
  {
   "cell_type": "code",
   "execution_count": 95,
   "id": "6e565617",
   "metadata": {},
   "outputs": [],
   "source": [
    "df_test_num_scaled = df_test_num[['Age','Travel_Distance','DepartureDelay_in_Mins','ArrivalDelay_in_Mins']].apply(zscore)"
   ]
  },
  {
   "cell_type": "code",
   "execution_count": 96,
   "id": "dde77059",
   "metadata": {},
   "outputs": [
    {
     "data": {
      "text/html": [
       "<div>\n",
       "<style scoped>\n",
       "    .dataframe tbody tr th:only-of-type {\n",
       "        vertical-align: middle;\n",
       "    }\n",
       "\n",
       "    .dataframe tbody tr th {\n",
       "        vertical-align: top;\n",
       "    }\n",
       "\n",
       "    .dataframe thead th {\n",
       "        text-align: right;\n",
       "    }\n",
       "</style>\n",
       "<table border=\"1\" class=\"dataframe\">\n",
       "  <thead>\n",
       "    <tr style=\"text-align: right;\">\n",
       "      <th></th>\n",
       "      <th>Age</th>\n",
       "      <th>Travel_Distance</th>\n",
       "      <th>DepartureDelay_in_Mins</th>\n",
       "      <th>ArrivalDelay_in_Mins</th>\n",
       "      <th>Seat_comfort</th>\n",
       "      <th>Seat_Class</th>\n",
       "      <th>Arrival_time_convenient</th>\n",
       "      <th>Catering</th>\n",
       "      <th>Platform_location</th>\n",
       "      <th>Onboardwifi_service</th>\n",
       "      <th>...</th>\n",
       "      <th>Onboard_service</th>\n",
       "      <th>Leg_room</th>\n",
       "      <th>Baggage_handling</th>\n",
       "      <th>Checkin_service</th>\n",
       "      <th>Cleanliness</th>\n",
       "      <th>Online_boarding</th>\n",
       "      <th>Gender</th>\n",
       "      <th>CustomerType</th>\n",
       "      <th>TypeTravel</th>\n",
       "      <th>Travel_Class</th>\n",
       "    </tr>\n",
       "  </thead>\n",
       "  <tbody>\n",
       "    <tr>\n",
       "      <th>0</th>\n",
       "      <td>-0.227741</td>\n",
       "      <td>-1.420638</td>\n",
       "      <td>-0.392846</td>\n",
       "      <td>-0.397974</td>\n",
       "      <td>acceptable</td>\n",
       "      <td>Green Car</td>\n",
       "      <td>acceptable</td>\n",
       "      <td>acceptable</td>\n",
       "      <td>manageable</td>\n",
       "      <td>need improvement</td>\n",
       "      <td>...</td>\n",
       "      <td>excellent</td>\n",
       "      <td>excellent</td>\n",
       "      <td>excellent</td>\n",
       "      <td>good</td>\n",
       "      <td>excellent</td>\n",
       "      <td>poor</td>\n",
       "      <td>Female</td>\n",
       "      <td>Loyal Customer</td>\n",
       "      <td>Business travel</td>\n",
       "      <td>Business</td>\n",
       "    </tr>\n",
       "    <tr>\n",
       "      <th>1</th>\n",
       "      <td>-1.218821</td>\n",
       "      <td>-0.548819</td>\n",
       "      <td>-0.155250</td>\n",
       "      <td>0.329977</td>\n",
       "      <td>extremely poor</td>\n",
       "      <td>Ordinary</td>\n",
       "      <td>good</td>\n",
       "      <td>poor</td>\n",
       "      <td>manageable</td>\n",
       "      <td>acceptable</td>\n",
       "      <td>...</td>\n",
       "      <td>excellent</td>\n",
       "      <td>acceptable</td>\n",
       "      <td>good</td>\n",
       "      <td>acceptable</td>\n",
       "      <td>excellent</td>\n",
       "      <td>acceptable</td>\n",
       "      <td>Female</td>\n",
       "      <td>disloyal Customer</td>\n",
       "      <td>Business travel</td>\n",
       "      <td>Business</td>\n",
       "    </tr>\n",
       "    <tr>\n",
       "      <th>2</th>\n",
       "      <td>1.357987</td>\n",
       "      <td>0.824810</td>\n",
       "      <td>-0.392846</td>\n",
       "      <td>-0.397974</td>\n",
       "      <td>excellent</td>\n",
       "      <td>Ordinary</td>\n",
       "      <td>excellent</td>\n",
       "      <td>excellent</td>\n",
       "      <td>very convinient</td>\n",
       "      <td>excellent</td>\n",
       "      <td>...</td>\n",
       "      <td>need improvement</td>\n",
       "      <td>need improvement</td>\n",
       "      <td>need improvement</td>\n",
       "      <td>good</td>\n",
       "      <td>need improvement</td>\n",
       "      <td>excellent</td>\n",
       "      <td>Male</td>\n",
       "      <td>Loyal Customer</td>\n",
       "      <td>Business travel</td>\n",
       "      <td>Business</td>\n",
       "    </tr>\n",
       "    <tr>\n",
       "      <th>3</th>\n",
       "      <td>-0.690245</td>\n",
       "      <td>-0.620087</td>\n",
       "      <td>-0.392846</td>\n",
       "      <td>-0.397974</td>\n",
       "      <td>acceptable</td>\n",
       "      <td>Green Car</td>\n",
       "      <td>excellent</td>\n",
       "      <td>acceptable</td>\n",
       "      <td>very convinient</td>\n",
       "      <td>poor</td>\n",
       "      <td>...</td>\n",
       "      <td>acceptable</td>\n",
       "      <td>need improvement</td>\n",
       "      <td>excellent</td>\n",
       "      <td>excellent</td>\n",
       "      <td>excellent</td>\n",
       "      <td>poor</td>\n",
       "      <td>Female</td>\n",
       "      <td>Loyal Customer</td>\n",
       "      <td>Personal Travel</td>\n",
       "      <td>Eco</td>\n",
       "    </tr>\n",
       "    <tr>\n",
       "      <th>4</th>\n",
       "      <td>-1.417037</td>\n",
       "      <td>-0.368206</td>\n",
       "      <td>0.055946</td>\n",
       "      <td>-0.397974</td>\n",
       "      <td>excellent</td>\n",
       "      <td>Ordinary</td>\n",
       "      <td>extremely poor</td>\n",
       "      <td>excellent</td>\n",
       "      <td>need improvement</td>\n",
       "      <td>excellent</td>\n",
       "      <td>...</td>\n",
       "      <td>good</td>\n",
       "      <td>acceptable</td>\n",
       "      <td>excellent</td>\n",
       "      <td>excellent</td>\n",
       "      <td>excellent</td>\n",
       "      <td>excellent</td>\n",
       "      <td>Male</td>\n",
       "      <td>disloyal Customer</td>\n",
       "      <td>Business travel</td>\n",
       "      <td>Business</td>\n",
       "    </tr>\n",
       "    <tr>\n",
       "      <th>...</th>\n",
       "      <td>...</td>\n",
       "      <td>...</td>\n",
       "      <td>...</td>\n",
       "      <td>...</td>\n",
       "      <td>...</td>\n",
       "      <td>...</td>\n",
       "      <td>...</td>\n",
       "      <td>...</td>\n",
       "      <td>...</td>\n",
       "      <td>...</td>\n",
       "      <td>...</td>\n",
       "      <td>...</td>\n",
       "      <td>...</td>\n",
       "      <td>...</td>\n",
       "      <td>...</td>\n",
       "      <td>...</td>\n",
       "      <td>...</td>\n",
       "      <td>...</td>\n",
       "      <td>...</td>\n",
       "      <td>...</td>\n",
       "      <td>...</td>\n",
       "    </tr>\n",
       "    <tr>\n",
       "      <th>35597</th>\n",
       "      <td>-2.077757</td>\n",
       "      <td>-0.637660</td>\n",
       "      <td>-0.392846</td>\n",
       "      <td>-0.397974</td>\n",
       "      <td>need improvement</td>\n",
       "      <td>Green Car</td>\n",
       "      <td>excellent</td>\n",
       "      <td>need improvement</td>\n",
       "      <td>manageable</td>\n",
       "      <td>acceptable</td>\n",
       "      <td>...</td>\n",
       "      <td>good</td>\n",
       "      <td>excellent</td>\n",
       "      <td>good</td>\n",
       "      <td>acceptable</td>\n",
       "      <td>good</td>\n",
       "      <td>acceptable</td>\n",
       "      <td>Male</td>\n",
       "      <td>Loyal Customer</td>\n",
       "      <td>Personal Travel</td>\n",
       "      <td>Eco</td>\n",
       "    </tr>\n",
       "    <tr>\n",
       "      <th>35598</th>\n",
       "      <td>0.895483</td>\n",
       "      <td>-0.210049</td>\n",
       "      <td>-0.392846</td>\n",
       "      <td>-0.397974</td>\n",
       "      <td>need improvement</td>\n",
       "      <td>Ordinary</td>\n",
       "      <td>need improvement</td>\n",
       "      <td>good</td>\n",
       "      <td>need improvement</td>\n",
       "      <td>acceptable</td>\n",
       "      <td>...</td>\n",
       "      <td>good</td>\n",
       "      <td>good</td>\n",
       "      <td>good</td>\n",
       "      <td>acceptable</td>\n",
       "      <td>good</td>\n",
       "      <td>good</td>\n",
       "      <td>Female</td>\n",
       "      <td>Loyal Customer</td>\n",
       "      <td>Business travel</td>\n",
       "      <td>Business</td>\n",
       "    </tr>\n",
       "    <tr>\n",
       "      <th>35599</th>\n",
       "      <td>-1.152749</td>\n",
       "      <td>-0.788008</td>\n",
       "      <td>-0.392846</td>\n",
       "      <td>-0.397974</td>\n",
       "      <td>good</td>\n",
       "      <td>Green Car</td>\n",
       "      <td>extremely poor</td>\n",
       "      <td>good</td>\n",
       "      <td>need improvement</td>\n",
       "      <td>need improvement</td>\n",
       "      <td>...</td>\n",
       "      <td>poor</td>\n",
       "      <td>acceptable</td>\n",
       "      <td>poor</td>\n",
       "      <td>poor</td>\n",
       "      <td>excellent</td>\n",
       "      <td>need improvement</td>\n",
       "      <td>Male</td>\n",
       "      <td>disloyal Customer</td>\n",
       "      <td>Business travel</td>\n",
       "      <td>Eco</td>\n",
       "    </tr>\n",
       "    <tr>\n",
       "      <th>35600</th>\n",
       "      <td>1.820491</td>\n",
       "      <td>-1.529982</td>\n",
       "      <td>0.214343</td>\n",
       "      <td>0.017998</td>\n",
       "      <td>excellent</td>\n",
       "      <td>Ordinary</td>\n",
       "      <td>excellent</td>\n",
       "      <td>excellent</td>\n",
       "      <td>Inconvinient</td>\n",
       "      <td>acceptable</td>\n",
       "      <td>...</td>\n",
       "      <td>excellent</td>\n",
       "      <td>excellent</td>\n",
       "      <td>excellent</td>\n",
       "      <td>acceptable</td>\n",
       "      <td>excellent</td>\n",
       "      <td>good</td>\n",
       "      <td>Female</td>\n",
       "      <td>Loyal Customer</td>\n",
       "      <td>Personal Travel</td>\n",
       "      <td>Eco</td>\n",
       "    </tr>\n",
       "    <tr>\n",
       "      <th>35601</th>\n",
       "      <td>-1.284893</td>\n",
       "      <td>-0.299867</td>\n",
       "      <td>-0.392846</td>\n",
       "      <td>-0.397974</td>\n",
       "      <td>good</td>\n",
       "      <td>Ordinary</td>\n",
       "      <td>acceptable</td>\n",
       "      <td>good</td>\n",
       "      <td>manageable</td>\n",
       "      <td>poor</td>\n",
       "      <td>...</td>\n",
       "      <td>acceptable</td>\n",
       "      <td>good</td>\n",
       "      <td>good</td>\n",
       "      <td>need improvement</td>\n",
       "      <td>good</td>\n",
       "      <td>poor</td>\n",
       "      <td>Male</td>\n",
       "      <td>Loyal Customer</td>\n",
       "      <td>Personal Travel</td>\n",
       "      <td>Eco</td>\n",
       "    </tr>\n",
       "  </tbody>\n",
       "</table>\n",
       "<p>35602 rows × 23 columns</p>\n",
       "</div>"
      ],
      "text/plain": [
       "            Age  Travel_Distance  DepartureDelay_in_Mins  \\\n",
       "0     -0.227741        -1.420638               -0.392846   \n",
       "1     -1.218821        -0.548819               -0.155250   \n",
       "2      1.357987         0.824810               -0.392846   \n",
       "3     -0.690245        -0.620087               -0.392846   \n",
       "4     -1.417037        -0.368206                0.055946   \n",
       "...         ...              ...                     ...   \n",
       "35597 -2.077757        -0.637660               -0.392846   \n",
       "35598  0.895483        -0.210049               -0.392846   \n",
       "35599 -1.152749        -0.788008               -0.392846   \n",
       "35600  1.820491        -1.529982                0.214343   \n",
       "35601 -1.284893        -0.299867               -0.392846   \n",
       "\n",
       "       ArrivalDelay_in_Mins      Seat_comfort Seat_Class  \\\n",
       "0                 -0.397974        acceptable  Green Car   \n",
       "1                  0.329977    extremely poor   Ordinary   \n",
       "2                 -0.397974         excellent   Ordinary   \n",
       "3                 -0.397974        acceptable  Green Car   \n",
       "4                 -0.397974         excellent   Ordinary   \n",
       "...                     ...               ...        ...   \n",
       "35597             -0.397974  need improvement  Green Car   \n",
       "35598             -0.397974  need improvement   Ordinary   \n",
       "35599             -0.397974              good  Green Car   \n",
       "35600              0.017998         excellent   Ordinary   \n",
       "35601             -0.397974              good   Ordinary   \n",
       "\n",
       "      Arrival_time_convenient          Catering Platform_location  \\\n",
       "0                  acceptable        acceptable        manageable   \n",
       "1                        good              poor        manageable   \n",
       "2                   excellent         excellent   very convinient   \n",
       "3                   excellent        acceptable   very convinient   \n",
       "4              extremely poor         excellent  need improvement   \n",
       "...                       ...               ...               ...   \n",
       "35597               excellent  need improvement        manageable   \n",
       "35598        need improvement              good  need improvement   \n",
       "35599          extremely poor              good  need improvement   \n",
       "35600               excellent         excellent      Inconvinient   \n",
       "35601              acceptable              good        manageable   \n",
       "\n",
       "      Onboardwifi_service  ...   Onboard_service          Leg_room  \\\n",
       "0        need improvement  ...         excellent         excellent   \n",
       "1              acceptable  ...         excellent        acceptable   \n",
       "2               excellent  ...  need improvement  need improvement   \n",
       "3                    poor  ...        acceptable  need improvement   \n",
       "4               excellent  ...              good        acceptable   \n",
       "...                   ...  ...               ...               ...   \n",
       "35597          acceptable  ...              good         excellent   \n",
       "35598          acceptable  ...              good              good   \n",
       "35599    need improvement  ...              poor        acceptable   \n",
       "35600          acceptable  ...         excellent         excellent   \n",
       "35601                poor  ...        acceptable              good   \n",
       "\n",
       "       Baggage_handling   Checkin_service       Cleanliness   Online_boarding  \\\n",
       "0             excellent              good         excellent              poor   \n",
       "1                  good        acceptable         excellent        acceptable   \n",
       "2      need improvement              good  need improvement         excellent   \n",
       "3             excellent         excellent         excellent              poor   \n",
       "4             excellent         excellent         excellent         excellent   \n",
       "...                 ...               ...               ...               ...   \n",
       "35597              good        acceptable              good        acceptable   \n",
       "35598              good        acceptable              good              good   \n",
       "35599              poor              poor         excellent  need improvement   \n",
       "35600         excellent        acceptable         excellent              good   \n",
       "35601              good  need improvement              good              poor   \n",
       "\n",
       "       Gender       CustomerType       TypeTravel Travel_Class  \n",
       "0      Female     Loyal Customer  Business travel     Business  \n",
       "1      Female  disloyal Customer  Business travel     Business  \n",
       "2        Male     Loyal Customer  Business travel     Business  \n",
       "3      Female     Loyal Customer  Personal Travel          Eco  \n",
       "4        Male  disloyal Customer  Business travel     Business  \n",
       "...       ...                ...              ...          ...  \n",
       "35597    Male     Loyal Customer  Personal Travel          Eco  \n",
       "35598  Female     Loyal Customer  Business travel     Business  \n",
       "35599    Male  disloyal Customer  Business travel          Eco  \n",
       "35600  Female     Loyal Customer  Personal Travel          Eco  \n",
       "35601    Male     Loyal Customer  Personal Travel          Eco  \n",
       "\n",
       "[35602 rows x 23 columns]"
      ]
     },
     "execution_count": 96,
     "metadata": {},
     "output_type": "execute_result"
    }
   ],
   "source": [
    "df_test = pd.concat([df_test_num_scaled,df_test_cat],axis=1,join='inner')\n",
    "df_test"
   ]
  },
  {
   "cell_type": "code",
   "execution_count": 97,
   "id": "52bf311e",
   "metadata": {},
   "outputs": [],
   "source": [
    "df_test['Seat_comfort'] = np.where(df_test['Seat_comfort'] == 'extremely poor', '0',df_test['Seat_comfort'])\n",
    "df_test['Seat_comfort'] = np.where(df_test['Seat_comfort'] == 'poor', '1',df_test['Seat_comfort'])\n",
    "df_test['Seat_comfort'] = np.where(df_test['Seat_comfort'] == 'need improvement', '2',df_test['Seat_comfort'])\n",
    "df_test['Seat_comfort'] = np.where(df_test['Seat_comfort'] == 'acceptable', '3',df_test['Seat_comfort'])\n",
    "df_test['Seat_comfort'] = np.where(df_test['Seat_comfort'] == 'good', '4',df_test['Seat_comfort'])\n",
    "df_test['Seat_comfort'] = np.where(df_test['Seat_comfort'] == 'excellent', '5',df_test['Seat_comfort'])"
   ]
  },
  {
   "cell_type": "code",
   "execution_count": 98,
   "id": "e08d3df7",
   "metadata": {},
   "outputs": [],
   "source": [
    "df_test['Catering'] = np.where(df_test['Catering'] == 'extremely poor', '0',df_test['Catering'])\n",
    "df_test['Catering'] = np.where(df_test['Catering'] == 'poor', '1',df_test['Catering'])\n",
    "df_test['Catering'] = np.where(df_test['Catering'] == 'need improvement', '2',df_test['Catering'])\n",
    "df_test['Catering'] = np.where(df_test['Catering'] == 'acceptable', '3',df_test['Catering'])\n",
    "df_test['Catering'] = np.where(df_test['Catering'] == 'good', '4',df_test['Catering'])\n",
    "df_test['Catering'] = np.where(df_test['Catering'] == 'excellent', '5',df_test['Catering'])"
   ]
  },
  {
   "cell_type": "code",
   "execution_count": 99,
   "id": "0eb09da6",
   "metadata": {},
   "outputs": [],
   "source": [
    "df_test['Arrival_time_convenient'] = np.where(df_test['Arrival_time_convenient'] == 'extremely poor', '0',df_test['Arrival_time_convenient'])\n",
    "df_test['Arrival_time_convenient'] = np.where(df_test['Arrival_time_convenient'] == 'poor', '1',df_test['Arrival_time_convenient'])\n",
    "df_test['Arrival_time_convenient'] = np.where(df_test['Arrival_time_convenient'] == 'need improvement', '2',df_test['Arrival_time_convenient'])\n",
    "df_test['Arrival_time_convenient'] = np.where(df_test['Arrival_time_convenient'] == 'acceptable', '3',df_test['Arrival_time_convenient'])\n",
    "df_test['Arrival_time_convenient'] = np.where(df_test['Arrival_time_convenient'] == 'good', '4',df_test['Arrival_time_convenient'])\n",
    "df_test['Arrival_time_convenient'] = np.where(df_test['Arrival_time_convenient'] == 'excellent', '5',df_test['Arrival_time_convenient'])"
   ]
  },
  {
   "cell_type": "code",
   "execution_count": 100,
   "id": "1ce4eef2",
   "metadata": {},
   "outputs": [],
   "source": [
    "df_test['Platform_location'] = np.where(df_test['Platform_location'] == 'very inconvinient', '0',df_test['Platform_location'])\n",
    "df_test['Platform_location'] = np.where(df_test['Platform_location'] == 'Inconvinient', '1',df_test['Platform_location'])\n",
    "df_test['Platform_location'] = np.where(df_test['Platform_location'] == 'need improvement', '2',df_test['Platform_location'])\n",
    "df_test['Platform_location'] = np.where(df_test['Platform_location'] == 'manageable', '3',df_test['Platform_location'])\n",
    "df_test['Platform_location'] = np.where(df_test['Platform_location'] == 'Convinient', '4',df_test['Platform_location'])\n",
    "df_test['Platform_location'] = np.where(df_test['Platform_location'] == 'very convinient', '5',df_test['Platform_location'])"
   ]
  },
  {
   "cell_type": "code",
   "execution_count": 101,
   "id": "b3d10a2a",
   "metadata": {},
   "outputs": [],
   "source": [
    "df_test['Seat_Class'] = np.where(df_test['Seat_Class'] == 'Ordinary', '0',df_test['Seat_Class'])\n",
    "df_test['Seat_Class'] = np.where(df_test['Seat_Class'] == 'Green Car', '1',df_test['Seat_Class'])"
   ]
  },
  {
   "cell_type": "code",
   "execution_count": 102,
   "id": "b2ed35db",
   "metadata": {},
   "outputs": [],
   "source": [
    "df_test['Onboard_entertainment'] = np.where(df_test['Onboard_entertainment'] == 'extremely poor', '0',df_test['Onboard_entertainment'])\n",
    "df_test['Onboard_entertainment'] = np.where(df_test['Onboard_entertainment'] == 'poor', '1',df_test['Onboard_entertainment'])\n",
    "df_test['Onboard_entertainment'] = np.where(df_test['Onboard_entertainment'] == 'need improvement', '2',df_test['Onboard_entertainment'])\n",
    "df_test['Onboard_entertainment'] = np.where(df_test['Onboard_entertainment'] == 'acceptable', '3',df_test['Onboard_entertainment'])\n",
    "df_test['Onboard_entertainment'] = np.where(df_test['Onboard_entertainment'] == 'good', '4',df_test['Onboard_entertainment'])\n",
    "df_test['Onboard_entertainment'] = np.where(df_test['Onboard_entertainment'] == 'excellent', '5',df_test['Onboard_entertainment'])"
   ]
  },
  {
   "cell_type": "code",
   "execution_count": 103,
   "id": "55d47dfa",
   "metadata": {},
   "outputs": [],
   "source": [
    "df_test['Online_support'] = np.where(df_test['Online_support'] == 'extremely poor', '0',df_test['Online_support'])\n",
    "df_test['Online_support'] = np.where(df_test['Online_support'] == 'poor', '1',df_test['Online_support'])\n",
    "df_test['Online_support'] = np.where(df_test['Online_support'] == 'need improvement', '2',df_test['Online_support'])\n",
    "df_test['Online_support'] = np.where(df_test['Online_support'] == 'acceptable', '3',df_test['Online_support'])\n",
    "df_test['Online_support'] = np.where(df_test['Online_support'] == 'good', '4',df_test['Online_support'])\n",
    "df_test['Online_support'] = np.where(df_test['Online_support'] == 'excellent', '5',df_test['Online_support'])"
   ]
  },
  {
   "cell_type": "code",
   "execution_count": 104,
   "id": "8ad38d7b",
   "metadata": {},
   "outputs": [],
   "source": [
    "df_test['Onboardwifi_service'] = np.where(df_test['Onboardwifi_service'] == 'extremely poor', '0',df_test['Onboardwifi_service'])\n",
    "df_test['Onboardwifi_service'] = np.where(df_test['Onboardwifi_service'] == 'poor', '1',df_test['Onboardwifi_service'])\n",
    "df_test['Onboardwifi_service'] = np.where(df_test['Onboardwifi_service'] == 'need improvement', '2',df_test['Onboardwifi_service'])\n",
    "df_test['Onboardwifi_service'] = np.where(df_test['Onboardwifi_service'] == 'acceptable', '3',df_test['Onboardwifi_service'])\n",
    "df_test['Onboardwifi_service'] = np.where(df_test['Onboardwifi_service'] == 'good', '4',df_test['Onboardwifi_service'])\n",
    "df_test['Onboardwifi_service'] = np.where(df_test['Onboardwifi_service'] == 'excellent', '5',df_test['Onboardwifi_service'])"
   ]
  },
  {
   "cell_type": "code",
   "execution_count": 105,
   "id": "050d7d2a",
   "metadata": {},
   "outputs": [],
   "source": [
    "df_test['Leg_room'] = np.where(df_test['Leg_room'] == 'extremely poor', '0',df_test['Leg_room'])\n",
    "df_test['Leg_room'] = np.where(df_test['Leg_room'] == 'poor', '1',df_test['Leg_room'])\n",
    "df_test['Leg_room'] = np.where(df_test['Leg_room'] == 'need improvement', '2',df_test['Leg_room'])\n",
    "df_test['Leg_room'] = np.where(df_test['Leg_room'] == 'acceptable', '3',df_test['Leg_room'])\n",
    "df_test['Leg_room'] = np.where(df_test['Leg_room'] == 'good', '4',df_test['Leg_room'])\n",
    "df_test['Leg_room'] = np.where(df_test['Leg_room'] == 'excellent', '5',df_test['Leg_room'])"
   ]
  },
  {
   "cell_type": "code",
   "execution_count": 106,
   "id": "e2a6952b",
   "metadata": {},
   "outputs": [],
   "source": [
    "df_test['Onboard_service'] = np.where(df_test['Onboard_service'] == 'extremely poor', '0',df_test['Onboard_service'])\n",
    "df_test['Onboard_service'] = np.where(df_test['Onboard_service'] == 'poor', '1',df_test['Onboard_service'])\n",
    "df_test['Onboard_service'] = np.where(df_test['Onboard_service'] == 'need improvement', '2',df_test['Onboard_service'])\n",
    "df_test['Onboard_service'] = np.where(df_test['Onboard_service'] == 'acceptable', '3',df_test['Onboard_service'])\n",
    "df_test['Onboard_service'] = np.where(df_test['Onboard_service'] == 'good', '4',df_test['Onboard_service'])\n",
    "df_test['Onboard_service'] = np.where(df_test['Onboard_service'] == 'excellent', '5',df_test['Onboard_service'])"
   ]
  },
  {
   "cell_type": "code",
   "execution_count": 107,
   "id": "b762431f",
   "metadata": {},
   "outputs": [],
   "source": [
    "df_test['Baggage_handling'] = np.where(df_test['Baggage_handling'] == 'extremely poor', '0',df_test['Baggage_handling'])\n",
    "df_test['Baggage_handling'] = np.where(df_test['Baggage_handling'] == 'poor', '1',df_test['Baggage_handling'])\n",
    "df_test['Baggage_handling'] = np.where(df_test['Baggage_handling'] == 'need improvement', '2',df_test['Baggage_handling'])\n",
    "df_test['Baggage_handling'] = np.where(df_test['Baggage_handling'] == 'acceptable', '3',df_test['Baggage_handling'])\n",
    "df_test['Baggage_handling'] = np.where(df_test['Baggage_handling'] == 'good', '4',df_test['Baggage_handling'])\n",
    "df_test['Baggage_handling'] = np.where(df_test['Baggage_handling'] == 'excellent', '5',df_test['Baggage_handling'])"
   ]
  },
  {
   "cell_type": "code",
   "execution_count": 108,
   "id": "f9c73b06",
   "metadata": {},
   "outputs": [],
   "source": [
    "df_test['TypeTravel'] = np.where(df_test['TypeTravel'] == 'Personal Travel', '0',df_test['TypeTravel'])\n",
    "df_test['TypeTravel'] = np.where(df_test['TypeTravel'] == 'Business travel', '1',df_test['TypeTravel'])"
   ]
  },
  {
   "cell_type": "code",
   "execution_count": 109,
   "id": "50c5a038",
   "metadata": {},
   "outputs": [],
   "source": [
    "df_test['Cleanliness'] = np.where(df_test['Cleanliness'] == 'extremely poor', '0',df_test['Cleanliness'])\n",
    "df_test['Cleanliness'] = np.where(df_test['Cleanliness'] == 'poor', '1',df_test['Cleanliness'])\n",
    "df_test['Cleanliness'] = np.where(df_test['Cleanliness'] == 'need improvement', '2',df_test['Cleanliness'])\n",
    "df_test['Cleanliness'] = np.where(df_test['Cleanliness'] == 'acceptable', '3',df_test['Cleanliness'])\n",
    "df_test['Cleanliness'] = np.where(df_test['Cleanliness'] == 'good', '4',df_test['Cleanliness'])\n",
    "df_test['Cleanliness'] = np.where(df_test['Cleanliness'] == 'excellent', '5',df_test['Cleanliness'])"
   ]
  },
  {
   "cell_type": "code",
   "execution_count": 110,
   "id": "7ce66fc1",
   "metadata": {},
   "outputs": [],
   "source": [
    "df_test['CustomerType'] = np.where(df_test['CustomerType'] == 'disloyal Customer', '0',df_test['CustomerType'])\n",
    "df_test['CustomerType'] = np.where(df_test['CustomerType'] == 'Loyal Customer', '1',df_test['CustomerType'])"
   ]
  },
  {
   "cell_type": "code",
   "execution_count": 111,
   "id": "b832c4f1",
   "metadata": {},
   "outputs": [],
   "source": [
    "df_test['Travel_Class'] = np.where(df_test['Travel_Class'] == 'Eco', '0',df_test['Travel_Class'])\n",
    "df_test['Travel_Class'] = np.where(df_test['Travel_Class'] == 'Business', '1',df_test['Travel_Class'])"
   ]
  },
  {
   "cell_type": "code",
   "execution_count": 112,
   "id": "cc087cd5",
   "metadata": {},
   "outputs": [],
   "source": [
    "df_test['Online_boarding'] = np.where(df_test['Online_boarding'] == 'extremely poor', '0',df_test['Online_boarding'])\n",
    "df_test['Online_boarding'] = np.where(df_test['Online_boarding'] == 'poor', '1',df_test['Online_boarding'])\n",
    "df_test['Online_boarding'] = np.where(df_test['Online_boarding'] == 'need improvement', '2',df_test['Online_boarding'])\n",
    "df_test['Online_boarding'] = np.where(df_test['Online_boarding'] == 'acceptable', '3',df_test['Online_boarding'])\n",
    "df_test['Online_boarding'] = np.where(df_test['Online_boarding'] == 'good', '4',df_test['Online_boarding'])\n",
    "df_test['Online_boarding'] = np.where(df_test['Online_boarding'] == 'excellent', '5',df_test['Online_boarding'])"
   ]
  },
  {
   "cell_type": "code",
   "execution_count": 113,
   "id": "6b4658f0",
   "metadata": {},
   "outputs": [],
   "source": [
    "df_test['Checkin_service'] = np.where(df_test['Checkin_service'] == 'extremely poor', '0',df_test['Checkin_service'])\n",
    "df_test['Checkin_service'] = np.where(df_test['Checkin_service'] == 'poor', '1',df_test['Checkin_service'])\n",
    "df_test['Checkin_service'] = np.where(df_test['Checkin_service'] == 'need improvement', '2',df_test['Checkin_service'])\n",
    "df_test['Checkin_service'] = np.where(df_test['Checkin_service'] == 'acceptable', '3',df_test['Checkin_service'])\n",
    "df_test['Checkin_service'] = np.where(df_test['Checkin_service'] == 'good', '4',df_test['Checkin_service'])\n",
    "df_test['Checkin_service'] = np.where(df_test['Checkin_service'] == 'excellent', '5',df_test['Checkin_service'])"
   ]
  },
  {
   "cell_type": "code",
   "execution_count": 114,
   "id": "a840b929",
   "metadata": {},
   "outputs": [],
   "source": [
    "df_test['Onlinebooking_Ease'] = np.where(df_test['Onlinebooking_Ease'] == 'extremely poor', '0',df_test['Onlinebooking_Ease'])\n",
    "df_test['Onlinebooking_Ease'] = np.where(df_test['Onlinebooking_Ease'] == 'poor', '1',df_test['Onlinebooking_Ease'])\n",
    "df_test['Onlinebooking_Ease'] = np.where(df_test['Onlinebooking_Ease'] == 'need improvement', '2',df_test['Onlinebooking_Ease'])\n",
    "df_test['Onlinebooking_Ease'] = np.where(df_test['Onlinebooking_Ease'] == 'acceptable', '3',df_test['Onlinebooking_Ease'])\n",
    "df_test['Onlinebooking_Ease'] = np.where(df_test['Onlinebooking_Ease'] == 'good', '4',df_test['Onlinebooking_Ease'])\n",
    "df_test['Onlinebooking_Ease'] = np.where(df_test['Onlinebooking_Ease'] == 'excellent', '5',df_test['Onlinebooking_Ease'])"
   ]
  },
  {
   "cell_type": "code",
   "execution_count": 115,
   "id": "b87b4cb6",
   "metadata": {},
   "outputs": [],
   "source": [
    "df_test['Gender'] = np.where(df_test['Gender'] == 'Female', '0',df_test['Gender'])\n",
    "df_test['Gender'] = np.where(df_test['Gender'] == 'Male', '1',df_test['Gender'])"
   ]
  },
  {
   "cell_type": "code",
   "execution_count": 116,
   "id": "ce9e5f51",
   "metadata": {},
   "outputs": [],
   "source": [
    "## Converting the Data types into int64\n",
    "df_test['Seat_comfort'] = df_test['Seat_comfort'].astype('int64')\n",
    "df_test['Seat_Class'] = df_test['Seat_Class'].astype('int64')\n",
    "df_test['Arrival_time_convenient'] = df_test['Arrival_time_convenient'].astype('int64')\n",
    "df_test['Catering'] = df_test['Catering'].astype('int64')\n",
    "df_test['Platform_location'] = df_test['Platform_location'].astype('int64')\n",
    "df_test['Onboardwifi_service'] = df_test['Onboardwifi_service'].astype('int64')\n",
    "df_test['Onboard_entertainment'] = df_test['Onboard_entertainment'].astype('int64')\n",
    "df_test['Online_support'] = df_test['Online_support'].astype('int64')\n",
    "df_test['Onlinebooking_Ease'] = df_test['Onlinebooking_Ease'].astype('int64')\n",
    "df_test['Onboard_service'] = df_test['Onboard_service'].astype('int64')\n",
    "df_test['Leg_room'] = df_test['Leg_room'].astype('int64')\n",
    "df_test['Baggage_handling'] = df_test['Baggage_handling'].astype('int64')\n",
    "df_test['Checkin_service'] = df_test['Checkin_service'].astype('int64')\n",
    "df_test['Cleanliness'] = df_test['Cleanliness'].astype('int64')\n",
    "df_test['Online_boarding'] = df_test['Online_boarding'].astype('int64')\n",
    "df_test['Gender'] = df_test['Gender'].astype('int64')\n",
    "df_test['CustomerType'] = df_test['CustomerType'].astype('int64')\n",
    "df_test['TypeTravel'] = df_test['TypeTravel'].astype('int64')\n",
    "df_test['Travel_Class'] = df_test['Travel_Class'].astype('int64')"
   ]
  },
  {
   "cell_type": "code",
   "execution_count": 117,
   "id": "4dea3be1",
   "metadata": {},
   "outputs": [
    {
     "data": {
      "text/plain": [
       "1    0.546658\n",
       "0    0.453342\n",
       "Name: Overall_Experience, dtype: float64"
      ]
     },
     "execution_count": 117,
     "metadata": {},
     "output_type": "execute_result"
    }
   ],
   "source": [
    "df_train['Overall_Experience'].value_counts(normalize = True)"
   ]
  },
  {
   "cell_type": "code",
   "execution_count": 118,
   "id": "6c7d2ac4",
   "metadata": {},
   "outputs": [],
   "source": [
    "# making copies of dataset\n",
    "df_train_1 = df_train.copy()\n",
    "df_train_2 = df_train.copy()"
   ]
  },
  {
   "cell_type": "code",
   "execution_count": 119,
   "id": "c568c5cb",
   "metadata": {},
   "outputs": [],
   "source": [
    "X = df_train_1.drop('Overall_Experience',axis=1)\n",
    "y=df_train_1['Overall_Experience']"
   ]
  },
  {
   "cell_type": "code",
   "execution_count": 120,
   "id": "ffb82387",
   "metadata": {},
   "outputs": [],
   "source": [
    "## Splitting the data into Xtrain,ytrain,Xtest,ytest\n",
    "X_train,X_test,y_train,y_test = train_test_split(X,y,test_size=0.3,random_state=1)"
   ]
  },
  {
   "cell_type": "code",
   "execution_count": 121,
   "id": "f1ff5996",
   "metadata": {},
   "outputs": [],
   "source": [
    "rf1 = RandomForestClassifier(n_estimators=310, max_depth= 25, \n",
    "                             max_features= 15, random_state = 0,\n",
    "                             n_jobs = -1)\n",
    "\n",
    "\n",
    "#rf1.fit(X_train, y_train)\n",
    "#ytrain_predict_rf1 = rf1.predict(X_train)\n",
    "#display(accuracy_score(y_train, ytrain_predict_rf1))\n",
    "#ytest_predict_rf1 = rf1.predict(X_test)\n",
    "#display(accuracy_score(y_test, ytest_predict_rf1))"
   ]
  },
  {
   "cell_type": "code",
   "execution_count": 122,
   "id": "47421dc0",
   "metadata": {},
   "outputs": [],
   "source": [
    "#ada8 = AdaBoostClassifier(rf1, n_estimators=46, learning_rate=1.0, random_state= 0)\n",
    "\n",
    "#ada8.fit(X_train, y_train)\n",
    "#ytrain_predict_ada8 = ada8.predict(X_train)\n",
    "#display(accuracy_score(y_train, ytrain_predict_ada8))\n",
    "#ytest_predict_ada8 = ada8.predict(X_test)\n",
    "#display(accuracy_score(y_test, ytest_predict_ada8))"
   ]
  },
  {
   "cell_type": "code",
   "execution_count": 123,
   "id": "776cec5f",
   "metadata": {},
   "outputs": [],
   "source": [
    "df_test1 = df_test_num.copy()"
   ]
  },
  {
   "cell_type": "code",
   "execution_count": 124,
   "id": "fd01296e",
   "metadata": {},
   "outputs": [],
   "source": [
    "#pred = ada8.predict(df_test)\n",
    "#df_test1['Overall_Experience'] = pred\n",
    "#sample_9 = df_test1[['ID','Overall_Experience']]"
   ]
  },
  {
   "cell_type": "code",
   "execution_count": 125,
   "id": "c4eb4341",
   "metadata": {},
   "outputs": [],
   "source": [
    "#sample_9.to_csv(r\"C:\\Users\\ANAY TIWARI\\OneDrive\\Desktop\\Hackathon_GL\\prediction_8.csv\")"
   ]
  },
  {
   "cell_type": "code",
   "execution_count": 126,
   "id": "9de37de1",
   "metadata": {},
   "outputs": [],
   "source": [
    "#ada8 = AdaBoostClassifier(rf1, n_estimators=47, learning_rate=1.0, random_state= 0)\n",
    "\n",
    "#ada8.fit(X_train, y_train)\n",
    "#ytrain_predict_ada8 = ada8.predict(X_train)\n",
    "#display(accuracy_score(y_train, ytrain_predict_ada8))\n",
    "#ytest_predict_ada8 = ada8.predict(X_test)\n",
    "#display(accuracy_score(y_test, ytest_predict_ada8))"
   ]
  },
  {
   "cell_type": "code",
   "execution_count": 127,
   "id": "4ea8fcf9",
   "metadata": {},
   "outputs": [],
   "source": [
    "#ada8 = AdaBoostClassifier(rf1, n_estimators=46, learning_rate=1.0, random_state= 1)\n",
    "\n",
    "#ada8.fit(X_train, y_train)\n",
    "#ytrain_predict_ada8 = ada8.predict(X_train)\n",
    "#display(accuracy_score(y_train, ytrain_predict_ada8))\n",
    "#ytest_predict_ada8 = ada8.predict(X_test)\n",
    "#display(accuracy_score(y_test, ytest_predict_ada8))"
   ]
  },
  {
   "cell_type": "code",
   "execution_count": 128,
   "id": "4ccd21c4",
   "metadata": {},
   "outputs": [],
   "source": [
    "#ada9 = AdaBoostClassifier(rf1, n_estimators=35, learning_rate=1.0, random_state= 0)\n",
    "\n",
    "#ada9.fit(X_train, y_train)\n",
    "#ytrain_predict_ada9 = ada9.predict(X_train)\n",
    "#display(accuracy_score(y_train, ytrain_predict_ada9))\n",
    "#ytest_predict_ada9 = ada9.predict(X_test)\n",
    "#display(accuracy_score(y_test, ytest_predict_ada9))"
   ]
  },
  {
   "cell_type": "code",
   "execution_count": 129,
   "id": "1576b7b4",
   "metadata": {},
   "outputs": [],
   "source": [
    "#pred = ada9.predict(df_test)\n",
    "#df_test1['Overall_Experience'] = pred\n",
    "#sample_9 = df_test1[['ID','Overall_Experience']]"
   ]
  },
  {
   "cell_type": "code",
   "execution_count": 130,
   "id": "726d09ae",
   "metadata": {},
   "outputs": [],
   "source": [
    "#sample_9.to_csv(r\"C:\\Users\\ANAY TIWARI\\OneDrive\\Desktop\\Hackathon_GL\\prediction_9.csv\")"
   ]
  },
  {
   "cell_type": "code",
   "execution_count": 131,
   "id": "800078e3",
   "metadata": {},
   "outputs": [],
   "source": [
    "#ada9 = AdaBoostClassifier(rf1, n_estimators=35, learning_rate=1.1, random_state= 0)\n",
    "\n",
    "#ada9.fit(X_train, y_train)\n",
    "#ytrain_predict_ada9 = ada9.predict(X_train)\n",
    "#display(accuracy_score(y_train, ytrain_predict_ada9))\n",
    "#ytest_predict_ada9 = ada9.predict(X_test)\n",
    "#display(accuracy_score(y_test, ytest_predict_ada9))"
   ]
  },
  {
   "cell_type": "code",
   "execution_count": 132,
   "id": "7097c8ce",
   "metadata": {},
   "outputs": [],
   "source": [
    "#ada9 = AdaBoostClassifier(rf1, n_estimators=35, learning_rate=1.2, random_state= 0)\n",
    "\n",
    "#ada9.fit(X_train, y_train)\n",
    "#ytrain_predict_ada9 = ada9.predict(X_train)\n",
    "#display(accuracy_score(y_train, ytrain_predict_ada9))\n",
    "#ytest_predict_ada9 = ada9.predict(X_test)\n",
    "#display(accuracy_score(y_test, ytest_predict_ada9))"
   ]
  },
  {
   "cell_type": "code",
   "execution_count": 133,
   "id": "a0a3ee1e",
   "metadata": {},
   "outputs": [],
   "source": [
    "import xgboost as xgb"
   ]
  },
  {
   "cell_type": "code",
   "execution_count": 136,
   "id": "48f65264",
   "metadata": {},
   "outputs": [],
   "source": [
    "model = xgb.XGBClassifier(n_estimators=35, random_state = 0)"
   ]
  },
  {
   "cell_type": "code",
   "execution_count": 137,
   "id": "5dd16053",
   "metadata": {},
   "outputs": [
    {
     "data": {
      "text/html": [
       "<style>#sk-container-id-1 {\n",
       "  /* Definition of color scheme common for light and dark mode */\n",
       "  --sklearn-color-text: black;\n",
       "  --sklearn-color-line: gray;\n",
       "  /* Definition of color scheme for unfitted estimators */\n",
       "  --sklearn-color-unfitted-level-0: #fff5e6;\n",
       "  --sklearn-color-unfitted-level-1: #f6e4d2;\n",
       "  --sklearn-color-unfitted-level-2: #ffe0b3;\n",
       "  --sklearn-color-unfitted-level-3: chocolate;\n",
       "  /* Definition of color scheme for fitted estimators */\n",
       "  --sklearn-color-fitted-level-0: #f0f8ff;\n",
       "  --sklearn-color-fitted-level-1: #d4ebff;\n",
       "  --sklearn-color-fitted-level-2: #b3dbfd;\n",
       "  --sklearn-color-fitted-level-3: cornflowerblue;\n",
       "\n",
       "  /* Specific color for light theme */\n",
       "  --sklearn-color-text-on-default-background: var(--sg-text-color, var(--theme-code-foreground, var(--jp-content-font-color1, black)));\n",
       "  --sklearn-color-background: var(--sg-background-color, var(--theme-background, var(--jp-layout-color0, white)));\n",
       "  --sklearn-color-border-box: var(--sg-text-color, var(--theme-code-foreground, var(--jp-content-font-color1, black)));\n",
       "  --sklearn-color-icon: #696969;\n",
       "\n",
       "  @media (prefers-color-scheme: dark) {\n",
       "    /* Redefinition of color scheme for dark theme */\n",
       "    --sklearn-color-text-on-default-background: var(--sg-text-color, var(--theme-code-foreground, var(--jp-content-font-color1, white)));\n",
       "    --sklearn-color-background: var(--sg-background-color, var(--theme-background, var(--jp-layout-color0, #111)));\n",
       "    --sklearn-color-border-box: var(--sg-text-color, var(--theme-code-foreground, var(--jp-content-font-color1, white)));\n",
       "    --sklearn-color-icon: #878787;\n",
       "  }\n",
       "}\n",
       "\n",
       "#sk-container-id-1 {\n",
       "  color: var(--sklearn-color-text);\n",
       "}\n",
       "\n",
       "#sk-container-id-1 pre {\n",
       "  padding: 0;\n",
       "}\n",
       "\n",
       "#sk-container-id-1 input.sk-hidden--visually {\n",
       "  border: 0;\n",
       "  clip: rect(1px 1px 1px 1px);\n",
       "  clip: rect(1px, 1px, 1px, 1px);\n",
       "  height: 1px;\n",
       "  margin: -1px;\n",
       "  overflow: hidden;\n",
       "  padding: 0;\n",
       "  position: absolute;\n",
       "  width: 1px;\n",
       "}\n",
       "\n",
       "#sk-container-id-1 div.sk-dashed-wrapped {\n",
       "  border: 1px dashed var(--sklearn-color-line);\n",
       "  margin: 0 0.4em 0.5em 0.4em;\n",
       "  box-sizing: border-box;\n",
       "  padding-bottom: 0.4em;\n",
       "  background-color: var(--sklearn-color-background);\n",
       "}\n",
       "\n",
       "#sk-container-id-1 div.sk-container {\n",
       "  /* jupyter's `normalize.less` sets `[hidden] { display: none; }`\n",
       "     but bootstrap.min.css set `[hidden] { display: none !important; }`\n",
       "     so we also need the `!important` here to be able to override the\n",
       "     default hidden behavior on the sphinx rendered scikit-learn.org.\n",
       "     See: https://github.com/scikit-learn/scikit-learn/issues/21755 */\n",
       "  display: inline-block !important;\n",
       "  position: relative;\n",
       "}\n",
       "\n",
       "#sk-container-id-1 div.sk-text-repr-fallback {\n",
       "  display: none;\n",
       "}\n",
       "\n",
       "div.sk-parallel-item,\n",
       "div.sk-serial,\n",
       "div.sk-item {\n",
       "  /* draw centered vertical line to link estimators */\n",
       "  background-image: linear-gradient(var(--sklearn-color-text-on-default-background), var(--sklearn-color-text-on-default-background));\n",
       "  background-size: 2px 100%;\n",
       "  background-repeat: no-repeat;\n",
       "  background-position: center center;\n",
       "}\n",
       "\n",
       "/* Parallel-specific style estimator block */\n",
       "\n",
       "#sk-container-id-1 div.sk-parallel-item::after {\n",
       "  content: \"\";\n",
       "  width: 100%;\n",
       "  border-bottom: 2px solid var(--sklearn-color-text-on-default-background);\n",
       "  flex-grow: 1;\n",
       "}\n",
       "\n",
       "#sk-container-id-1 div.sk-parallel {\n",
       "  display: flex;\n",
       "  align-items: stretch;\n",
       "  justify-content: center;\n",
       "  background-color: var(--sklearn-color-background);\n",
       "  position: relative;\n",
       "}\n",
       "\n",
       "#sk-container-id-1 div.sk-parallel-item {\n",
       "  display: flex;\n",
       "  flex-direction: column;\n",
       "}\n",
       "\n",
       "#sk-container-id-1 div.sk-parallel-item:first-child::after {\n",
       "  align-self: flex-end;\n",
       "  width: 50%;\n",
       "}\n",
       "\n",
       "#sk-container-id-1 div.sk-parallel-item:last-child::after {\n",
       "  align-self: flex-start;\n",
       "  width: 50%;\n",
       "}\n",
       "\n",
       "#sk-container-id-1 div.sk-parallel-item:only-child::after {\n",
       "  width: 0;\n",
       "}\n",
       "\n",
       "/* Serial-specific style estimator block */\n",
       "\n",
       "#sk-container-id-1 div.sk-serial {\n",
       "  display: flex;\n",
       "  flex-direction: column;\n",
       "  align-items: center;\n",
       "  background-color: var(--sklearn-color-background);\n",
       "  padding-right: 1em;\n",
       "  padding-left: 1em;\n",
       "}\n",
       "\n",
       "\n",
       "/* Toggleable style: style used for estimator/Pipeline/ColumnTransformer box that is\n",
       "clickable and can be expanded/collapsed.\n",
       "- Pipeline and ColumnTransformer use this feature and define the default style\n",
       "- Estimators will overwrite some part of the style using the `sk-estimator` class\n",
       "*/\n",
       "\n",
       "/* Pipeline and ColumnTransformer style (default) */\n",
       "\n",
       "#sk-container-id-1 div.sk-toggleable {\n",
       "  /* Default theme specific background. It is overwritten whether we have a\n",
       "  specific estimator or a Pipeline/ColumnTransformer */\n",
       "  background-color: var(--sklearn-color-background);\n",
       "}\n",
       "\n",
       "/* Toggleable label */\n",
       "#sk-container-id-1 label.sk-toggleable__label {\n",
       "  cursor: pointer;\n",
       "  display: block;\n",
       "  width: 100%;\n",
       "  margin-bottom: 0;\n",
       "  padding: 0.5em;\n",
       "  box-sizing: border-box;\n",
       "  text-align: center;\n",
       "}\n",
       "\n",
       "#sk-container-id-1 label.sk-toggleable__label-arrow:before {\n",
       "  /* Arrow on the left of the label */\n",
       "  content: \"▸\";\n",
       "  float: left;\n",
       "  margin-right: 0.25em;\n",
       "  color: var(--sklearn-color-icon);\n",
       "}\n",
       "\n",
       "#sk-container-id-1 label.sk-toggleable__label-arrow:hover:before {\n",
       "  color: var(--sklearn-color-text);\n",
       "}\n",
       "\n",
       "/* Toggleable content - dropdown */\n",
       "\n",
       "#sk-container-id-1 div.sk-toggleable__content {\n",
       "  max-height: 0;\n",
       "  max-width: 0;\n",
       "  overflow: hidden;\n",
       "  text-align: left;\n",
       "  /* unfitted */\n",
       "  background-color: var(--sklearn-color-unfitted-level-0);\n",
       "}\n",
       "\n",
       "#sk-container-id-1 div.sk-toggleable__content.fitted {\n",
       "  /* fitted */\n",
       "  background-color: var(--sklearn-color-fitted-level-0);\n",
       "}\n",
       "\n",
       "#sk-container-id-1 div.sk-toggleable__content pre {\n",
       "  margin: 0.2em;\n",
       "  border-radius: 0.25em;\n",
       "  color: var(--sklearn-color-text);\n",
       "  /* unfitted */\n",
       "  background-color: var(--sklearn-color-unfitted-level-0);\n",
       "}\n",
       "\n",
       "#sk-container-id-1 div.sk-toggleable__content.fitted pre {\n",
       "  /* unfitted */\n",
       "  background-color: var(--sklearn-color-fitted-level-0);\n",
       "}\n",
       "\n",
       "#sk-container-id-1 input.sk-toggleable__control:checked~div.sk-toggleable__content {\n",
       "  /* Expand drop-down */\n",
       "  max-height: 200px;\n",
       "  max-width: 100%;\n",
       "  overflow: auto;\n",
       "}\n",
       "\n",
       "#sk-container-id-1 input.sk-toggleable__control:checked~label.sk-toggleable__label-arrow:before {\n",
       "  content: \"▾\";\n",
       "}\n",
       "\n",
       "/* Pipeline/ColumnTransformer-specific style */\n",
       "\n",
       "#sk-container-id-1 div.sk-label input.sk-toggleable__control:checked~label.sk-toggleable__label {\n",
       "  color: var(--sklearn-color-text);\n",
       "  background-color: var(--sklearn-color-unfitted-level-2);\n",
       "}\n",
       "\n",
       "#sk-container-id-1 div.sk-label.fitted input.sk-toggleable__control:checked~label.sk-toggleable__label {\n",
       "  background-color: var(--sklearn-color-fitted-level-2);\n",
       "}\n",
       "\n",
       "/* Estimator-specific style */\n",
       "\n",
       "/* Colorize estimator box */\n",
       "#sk-container-id-1 div.sk-estimator input.sk-toggleable__control:checked~label.sk-toggleable__label {\n",
       "  /* unfitted */\n",
       "  background-color: var(--sklearn-color-unfitted-level-2);\n",
       "}\n",
       "\n",
       "#sk-container-id-1 div.sk-estimator.fitted input.sk-toggleable__control:checked~label.sk-toggleable__label {\n",
       "  /* fitted */\n",
       "  background-color: var(--sklearn-color-fitted-level-2);\n",
       "}\n",
       "\n",
       "#sk-container-id-1 div.sk-label label.sk-toggleable__label,\n",
       "#sk-container-id-1 div.sk-label label {\n",
       "  /* The background is the default theme color */\n",
       "  color: var(--sklearn-color-text-on-default-background);\n",
       "}\n",
       "\n",
       "/* On hover, darken the color of the background */\n",
       "#sk-container-id-1 div.sk-label:hover label.sk-toggleable__label {\n",
       "  color: var(--sklearn-color-text);\n",
       "  background-color: var(--sklearn-color-unfitted-level-2);\n",
       "}\n",
       "\n",
       "/* Label box, darken color on hover, fitted */\n",
       "#sk-container-id-1 div.sk-label.fitted:hover label.sk-toggleable__label.fitted {\n",
       "  color: var(--sklearn-color-text);\n",
       "  background-color: var(--sklearn-color-fitted-level-2);\n",
       "}\n",
       "\n",
       "/* Estimator label */\n",
       "\n",
       "#sk-container-id-1 div.sk-label label {\n",
       "  font-family: monospace;\n",
       "  font-weight: bold;\n",
       "  display: inline-block;\n",
       "  line-height: 1.2em;\n",
       "}\n",
       "\n",
       "#sk-container-id-1 div.sk-label-container {\n",
       "  text-align: center;\n",
       "}\n",
       "\n",
       "/* Estimator-specific */\n",
       "#sk-container-id-1 div.sk-estimator {\n",
       "  font-family: monospace;\n",
       "  border: 1px dotted var(--sklearn-color-border-box);\n",
       "  border-radius: 0.25em;\n",
       "  box-sizing: border-box;\n",
       "  margin-bottom: 0.5em;\n",
       "  /* unfitted */\n",
       "  background-color: var(--sklearn-color-unfitted-level-0);\n",
       "}\n",
       "\n",
       "#sk-container-id-1 div.sk-estimator.fitted {\n",
       "  /* fitted */\n",
       "  background-color: var(--sklearn-color-fitted-level-0);\n",
       "}\n",
       "\n",
       "/* on hover */\n",
       "#sk-container-id-1 div.sk-estimator:hover {\n",
       "  /* unfitted */\n",
       "  background-color: var(--sklearn-color-unfitted-level-2);\n",
       "}\n",
       "\n",
       "#sk-container-id-1 div.sk-estimator.fitted:hover {\n",
       "  /* fitted */\n",
       "  background-color: var(--sklearn-color-fitted-level-2);\n",
       "}\n",
       "\n",
       "/* Specification for estimator info (e.g. \"i\" and \"?\") */\n",
       "\n",
       "/* Common style for \"i\" and \"?\" */\n",
       "\n",
       ".sk-estimator-doc-link,\n",
       "a:link.sk-estimator-doc-link,\n",
       "a:visited.sk-estimator-doc-link {\n",
       "  float: right;\n",
       "  font-size: smaller;\n",
       "  line-height: 1em;\n",
       "  font-family: monospace;\n",
       "  background-color: var(--sklearn-color-background);\n",
       "  border-radius: 1em;\n",
       "  height: 1em;\n",
       "  width: 1em;\n",
       "  text-decoration: none !important;\n",
       "  margin-left: 1ex;\n",
       "  /* unfitted */\n",
       "  border: var(--sklearn-color-unfitted-level-1) 1pt solid;\n",
       "  color: var(--sklearn-color-unfitted-level-1);\n",
       "}\n",
       "\n",
       ".sk-estimator-doc-link.fitted,\n",
       "a:link.sk-estimator-doc-link.fitted,\n",
       "a:visited.sk-estimator-doc-link.fitted {\n",
       "  /* fitted */\n",
       "  border: var(--sklearn-color-fitted-level-1) 1pt solid;\n",
       "  color: var(--sklearn-color-fitted-level-1);\n",
       "}\n",
       "\n",
       "/* On hover */\n",
       "div.sk-estimator:hover .sk-estimator-doc-link:hover,\n",
       ".sk-estimator-doc-link:hover,\n",
       "div.sk-label-container:hover .sk-estimator-doc-link:hover,\n",
       ".sk-estimator-doc-link:hover {\n",
       "  /* unfitted */\n",
       "  background-color: var(--sklearn-color-unfitted-level-3);\n",
       "  color: var(--sklearn-color-background);\n",
       "  text-decoration: none;\n",
       "}\n",
       "\n",
       "div.sk-estimator.fitted:hover .sk-estimator-doc-link.fitted:hover,\n",
       ".sk-estimator-doc-link.fitted:hover,\n",
       "div.sk-label-container:hover .sk-estimator-doc-link.fitted:hover,\n",
       ".sk-estimator-doc-link.fitted:hover {\n",
       "  /* fitted */\n",
       "  background-color: var(--sklearn-color-fitted-level-3);\n",
       "  color: var(--sklearn-color-background);\n",
       "  text-decoration: none;\n",
       "}\n",
       "\n",
       "/* Span, style for the box shown on hovering the info icon */\n",
       ".sk-estimator-doc-link span {\n",
       "  display: none;\n",
       "  z-index: 9999;\n",
       "  position: relative;\n",
       "  font-weight: normal;\n",
       "  right: .2ex;\n",
       "  padding: .5ex;\n",
       "  margin: .5ex;\n",
       "  width: min-content;\n",
       "  min-width: 20ex;\n",
       "  max-width: 50ex;\n",
       "  color: var(--sklearn-color-text);\n",
       "  box-shadow: 2pt 2pt 4pt #999;\n",
       "  /* unfitted */\n",
       "  background: var(--sklearn-color-unfitted-level-0);\n",
       "  border: .5pt solid var(--sklearn-color-unfitted-level-3);\n",
       "}\n",
       "\n",
       ".sk-estimator-doc-link.fitted span {\n",
       "  /* fitted */\n",
       "  background: var(--sklearn-color-fitted-level-0);\n",
       "  border: var(--sklearn-color-fitted-level-3);\n",
       "}\n",
       "\n",
       ".sk-estimator-doc-link:hover span {\n",
       "  display: block;\n",
       "}\n",
       "\n",
       "/* \"?\"-specific style due to the `<a>` HTML tag */\n",
       "\n",
       "#sk-container-id-1 a.estimator_doc_link {\n",
       "  float: right;\n",
       "  font-size: 1rem;\n",
       "  line-height: 1em;\n",
       "  font-family: monospace;\n",
       "  background-color: var(--sklearn-color-background);\n",
       "  border-radius: 1rem;\n",
       "  height: 1rem;\n",
       "  width: 1rem;\n",
       "  text-decoration: none;\n",
       "  /* unfitted */\n",
       "  color: var(--sklearn-color-unfitted-level-1);\n",
       "  border: var(--sklearn-color-unfitted-level-1) 1pt solid;\n",
       "}\n",
       "\n",
       "#sk-container-id-1 a.estimator_doc_link.fitted {\n",
       "  /* fitted */\n",
       "  border: var(--sklearn-color-fitted-level-1) 1pt solid;\n",
       "  color: var(--sklearn-color-fitted-level-1);\n",
       "}\n",
       "\n",
       "/* On hover */\n",
       "#sk-container-id-1 a.estimator_doc_link:hover {\n",
       "  /* unfitted */\n",
       "  background-color: var(--sklearn-color-unfitted-level-3);\n",
       "  color: var(--sklearn-color-background);\n",
       "  text-decoration: none;\n",
       "}\n",
       "\n",
       "#sk-container-id-1 a.estimator_doc_link.fitted:hover {\n",
       "  /* fitted */\n",
       "  background-color: var(--sklearn-color-fitted-level-3);\n",
       "}\n",
       "</style><div id=\"sk-container-id-1\" class=\"sk-top-container\"><div class=\"sk-text-repr-fallback\"><pre>XGBClassifier(base_score=None, booster=None, callbacks=None,\n",
       "              colsample_bylevel=None, colsample_bynode=None,\n",
       "              colsample_bytree=None, device=None, early_stopping_rounds=None,\n",
       "              enable_categorical=False, eval_metric=None, feature_types=None,\n",
       "              gamma=None, grow_policy=None, importance_type=None,\n",
       "              interaction_constraints=None, learning_rate=None, max_bin=None,\n",
       "              max_cat_threshold=None, max_cat_to_onehot=None,\n",
       "              max_delta_step=None, max_depth=None, max_leaves=None,\n",
       "              min_child_weight=None, missing=nan, monotone_constraints=None,\n",
       "              multi_strategy=None, n_estimators=35, n_jobs=None,\n",
       "              num_parallel_tree=None, random_state=0, ...)</pre><b>In a Jupyter environment, please rerun this cell to show the HTML representation or trust the notebook. <br />On GitHub, the HTML representation is unable to render, please try loading this page with nbviewer.org.</b></div><div class=\"sk-container\" hidden><div class=\"sk-item\"><div class=\"sk-estimator fitted sk-toggleable\"><input class=\"sk-toggleable__control sk-hidden--visually\" id=\"sk-estimator-id-1\" type=\"checkbox\" checked><label for=\"sk-estimator-id-1\" class=\"sk-toggleable__label fitted sk-toggleable__label-arrow fitted\">&nbsp;XGBClassifier<span class=\"sk-estimator-doc-link fitted\">i<span>Fitted</span></span></label><div class=\"sk-toggleable__content fitted\"><pre>XGBClassifier(base_score=None, booster=None, callbacks=None,\n",
       "              colsample_bylevel=None, colsample_bynode=None,\n",
       "              colsample_bytree=None, device=None, early_stopping_rounds=None,\n",
       "              enable_categorical=False, eval_metric=None, feature_types=None,\n",
       "              gamma=None, grow_policy=None, importance_type=None,\n",
       "              interaction_constraints=None, learning_rate=None, max_bin=None,\n",
       "              max_cat_threshold=None, max_cat_to_onehot=None,\n",
       "              max_delta_step=None, max_depth=None, max_leaves=None,\n",
       "              min_child_weight=None, missing=nan, monotone_constraints=None,\n",
       "              multi_strategy=None, n_estimators=35, n_jobs=None,\n",
       "              num_parallel_tree=None, random_state=0, ...)</pre></div> </div></div></div></div>"
      ],
      "text/plain": [
       "XGBClassifier(base_score=None, booster=None, callbacks=None,\n",
       "              colsample_bylevel=None, colsample_bynode=None,\n",
       "              colsample_bytree=None, device=None, early_stopping_rounds=None,\n",
       "              enable_categorical=False, eval_metric=None, feature_types=None,\n",
       "              gamma=None, grow_policy=None, importance_type=None,\n",
       "              interaction_constraints=None, learning_rate=None, max_bin=None,\n",
       "              max_cat_threshold=None, max_cat_to_onehot=None,\n",
       "              max_delta_step=None, max_depth=None, max_leaves=None,\n",
       "              min_child_weight=None, missing=nan, monotone_constraints=None,\n",
       "              multi_strategy=None, n_estimators=35, n_jobs=None,\n",
       "              num_parallel_tree=None, random_state=0, ...)"
      ]
     },
     "execution_count": 137,
     "metadata": {},
     "output_type": "execute_result"
    }
   ],
   "source": [
    "model.fit(X_train,y_train)"
   ]
  },
  {
   "cell_type": "code",
   "execution_count": 138,
   "id": "968d948d",
   "metadata": {},
   "outputs": [
    {
     "data": {
      "text/plain": [
       "0.9539241655944902"
      ]
     },
     "metadata": {},
     "output_type": "display_data"
    },
    {
     "data": {
      "text/plain": [
       "0.94811753902663"
      ]
     },
     "metadata": {},
     "output_type": "display_data"
    }
   ],
   "source": [
    "ytrain_predict = model.predict(X_train)\n",
    "display(accuracy_score(y_train,ytrain_predict))\n",
    "ytest_predict = model.predict(X_test)\n",
    "display(accuracy_score(y_test,ytest_predict))"
   ]
  },
  {
   "cell_type": "code",
   "execution_count": 139,
   "id": "2f0a01ba",
   "metadata": {},
   "outputs": [],
   "source": [
    "pred = model.predict(df_test)\n",
    "df_test1['Overall_Experience'] = pred\n",
    "sample_10 = df_test1[['ID','Overall_Experience']]"
   ]
  },
  {
   "cell_type": "code",
   "execution_count": 140,
   "id": "9e5a4c88",
   "metadata": {},
   "outputs": [],
   "source": [
    "sample_10.to_csv(r\"C:\\Users\\ANAY TIWARI\\OneDrive\\Desktop\\Hackathon_GL\\prediction_10.csv\")"
   ]
  },
  {
   "cell_type": "code",
   "execution_count": 142,
   "id": "b79c887f",
   "metadata": {},
   "outputs": [
    {
     "data": {
      "text/plain": [
       "0.9999545901763415"
      ]
     },
     "metadata": {},
     "output_type": "display_data"
    },
    {
     "data": {
      "text/plain": [
       "0.9544394998940453"
      ]
     },
     "metadata": {},
     "output_type": "display_data"
    }
   ],
   "source": [
    "ada8 = AdaBoostClassifier(rf1, n_estimators=46, learning_rate=1.0, random_state= 1)\n",
    "\n",
    "ada8.fit(X_train, y_train)\n",
    "ytrain_predict_ada8 = ada8.predict(X_train)\n",
    "display(accuracy_score(y_train, ytrain_predict_ada8))\n",
    "ytest_predict_ada8 = ada8.predict(X_test)\n",
    "display(accuracy_score(y_test, ytest_predict_ada8))"
   ]
  },
  {
   "cell_type": "code",
   "execution_count": 143,
   "id": "b0275420",
   "metadata": {},
   "outputs": [],
   "source": [
    "pred = ada8.predict(df_test)\n",
    "df_test1['Overall_Experience'] = pred\n",
    "sample_11 = df_test1[['ID','Overall_Experience']]"
   ]
  },
  {
   "cell_type": "code",
   "execution_count": 144,
   "id": "a209fe08",
   "metadata": {},
   "outputs": [],
   "source": [
    "sample_11.to_csv(r\"C:\\Users\\ANAY TIWARI\\OneDrive\\Desktop\\Hackathon_GL\\prediction_11.csv\")"
   ]
  },
  {
   "cell_type": "code",
   "execution_count": null,
   "id": "350866e5",
   "metadata": {},
   "outputs": [],
   "source": [
    "ada8 = AdaBoostClassifier(rf1, n_estimators=46, learning_rate=1.0, random_state=2)\n",
    "\n",
    "ada8.fit(X_train, y_train)\n",
    "ytrain_predict_ada8 = ada8.predict(X_train)\n",
    "display(accuracy_score(y_train, ytrain_predict_ada8))\n",
    "ytest_predict_ada8 = ada8.predict(X_test)\n",
    "display(accuracy_score(y_test, ytest_predict_ada8))"
   ]
  },
  {
   "cell_type": "code",
   "execution_count": null,
   "id": "cb04987d",
   "metadata": {},
   "outputs": [],
   "source": []
  }
 ],
 "metadata": {
  "kernelspec": {
   "display_name": "Python 3 (ipykernel)",
   "language": "python",
   "name": "python3"
  },
  "language_info": {
   "codemirror_mode": {
    "name": "ipython",
    "version": 3
   },
   "file_extension": ".py",
   "mimetype": "text/x-python",
   "name": "python",
   "nbconvert_exporter": "python",
   "pygments_lexer": "ipython3",
   "version": "3.10.9"
  }
 },
 "nbformat": 4,
 "nbformat_minor": 5
}
